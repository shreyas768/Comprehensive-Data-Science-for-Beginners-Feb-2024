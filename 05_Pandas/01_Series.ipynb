{
 "cells": [
  {
   "cell_type": "code",
   "execution_count": 18,
   "id": "2f37bbb2",
   "metadata": {},
   "outputs": [],
   "source": [
    "import numpy as np\n",
    "import pandas as pd "
   ]
  },
  {
   "cell_type": "code",
   "execution_count": 19,
   "id": "1b69fc80",
   "metadata": {},
   "outputs": [],
   "source": [
    "my_index = ['USA','MEXICO','CANADA']\n",
    "my_data = [1776,1867,1821]"
   ]
  },
  {
   "cell_type": "code",
   "execution_count": 20,
   "id": "cf2af9cf",
   "metadata": {},
   "outputs": [],
   "source": [
    "myser = pd.Series(data=my_data)"
   ]
  },
  {
   "cell_type": "code",
   "execution_count": 21,
   "id": "a4dae77d",
   "metadata": {},
   "outputs": [
    {
     "data": {
      "text/plain": [
       "USA       1776\n",
       "MEXICO    1867\n",
       "CANADA    1821\n",
       "dtype: int64"
      ]
     },
     "execution_count": 21,
     "metadata": {},
     "output_type": "execute_result"
    }
   ],
   "source": [
    "pd.Series(data=my_data, index= my_index)"
   ]
  },
  {
   "cell_type": "code",
   "execution_count": 23,
   "id": "0f278394",
   "metadata": {},
   "outputs": [],
   "source": [
    "age = np.random.randint(0,100,4)"
   ]
  },
  {
   "cell_type": "code",
   "execution_count": 24,
   "id": "d7abd50b",
   "metadata": {},
   "outputs": [],
   "source": [
    "names = ['Apurva','Ankit','Ankush','Harshali']"
   ]
  },
  {
   "cell_type": "code",
   "execution_count": 25,
   "id": "2d967e70",
   "metadata": {},
   "outputs": [
    {
     "data": {
      "text/plain": [
       "Apurva      39\n",
       "Ankit       25\n",
       "Ankush      82\n",
       "Harshali    49\n",
       "dtype: int64"
      ]
     },
     "execution_count": 25,
     "metadata": {},
     "output_type": "execute_result"
    }
   ],
   "source": [
    "pd.Series(data=age,index=names)"
   ]
  },
  {
   "cell_type": "code",
   "execution_count": 26,
   "id": "12b980ba",
   "metadata": {},
   "outputs": [],
   "source": [
    "q1 = {'Japan':80,'China':450,'India':200,'USA':250}\n",
    "q2 = {'Brazil':100, 'China':400,'India':210,'USA':260}"
   ]
  },
  {
   "cell_type": "code",
   "execution_count": 27,
   "id": "f3d6f967",
   "metadata": {},
   "outputs": [
    {
     "data": {
      "text/plain": [
       "Japan     80\n",
       "China    450\n",
       "India    200\n",
       "USA      250\n",
       "dtype: int64"
      ]
     },
     "execution_count": 27,
     "metadata": {},
     "output_type": "execute_result"
    }
   ],
   "source": [
    "sales_Q1 = pd.Series(q1)\n",
    "sales_Q1"
   ]
  },
  {
   "cell_type": "code",
   "execution_count": 28,
   "id": "7d4d4c57",
   "metadata": {},
   "outputs": [],
   "source": [
    "sales_Q2 = pd.Series(q2)"
   ]
  },
  {
   "cell_type": "code",
   "execution_count": 29,
   "id": "b4020db4",
   "metadata": {},
   "outputs": [
    {
     "data": {
      "text/plain": [
       "250"
      ]
     },
     "execution_count": 29,
     "metadata": {},
     "output_type": "execute_result"
    }
   ],
   "source": [
    "sales_Q1['USA']"
   ]
  },
  {
   "cell_type": "code",
   "execution_count": 30,
   "id": "59c40601",
   "metadata": {},
   "outputs": [
    {
     "data": {
      "text/plain": [
       "210"
      ]
     },
     "execution_count": 30,
     "metadata": {},
     "output_type": "execute_result"
    }
   ],
   "source": [
    "sales_Q2['India']"
   ]
  },
  {
   "cell_type": "code",
   "execution_count": 31,
   "id": "6c342627",
   "metadata": {},
   "outputs": [
    {
     "data": {
      "text/plain": [
       "Index(['Japan', 'China', 'India', 'USA'], dtype='object')"
      ]
     },
     "execution_count": 31,
     "metadata": {},
     "output_type": "execute_result"
    }
   ],
   "source": [
    "sales_Q1.keys()"
   ]
  },
  {
   "cell_type": "code",
   "execution_count": 32,
   "id": "a6edd225",
   "metadata": {},
   "outputs": [
    {
     "data": {
      "text/plain": [
       "Japan      6400\n",
       "China    202500\n",
       "India     40000\n",
       "USA       62500\n",
       "dtype: int64"
      ]
     },
     "execution_count": 32,
     "metadata": {},
     "output_type": "execute_result"
    }
   ],
   "source": [
    "sales_Q1**2"
   ]
  },
  {
   "cell_type": "code",
   "execution_count": 33,
   "id": "eb6a91f7",
   "metadata": {},
   "outputs": [
    {
     "data": {
      "text/plain": [
       "Japan     26.666667\n",
       "China    150.000000\n",
       "India     66.666667\n",
       "USA       83.333333\n",
       "dtype: float64"
      ]
     },
     "execution_count": 33,
     "metadata": {},
     "output_type": "execute_result"
    }
   ],
   "source": [
    "sales_Q1/3"
   ]
  },
  {
   "cell_type": "code",
   "execution_count": 34,
   "id": "1dc26f70",
   "metadata": {},
   "outputs": [
    {
     "data": {
      "text/plain": [
       "Brazil      NaN\n",
       "China     850.0\n",
       "India     410.0\n",
       "Japan       NaN\n",
       "USA       510.0\n",
       "dtype: float64"
      ]
     },
     "execution_count": 34,
     "metadata": {},
     "output_type": "execute_result"
    }
   ],
   "source": [
    "#Between series\n",
    "sales_Q1+sales_Q2"
   ]
  },
  {
   "cell_type": "code",
   "execution_count": 37,
   "id": "31d760ca",
   "metadata": {},
   "outputs": [
    {
     "data": {
      "text/plain": [
       "Brazil    100.0\n",
       "China     850.0\n",
       "India     410.0\n",
       "Japan      80.0\n",
       "USA       510.0\n",
       "dtype: float64"
      ]
     },
     "execution_count": 37,
     "metadata": {},
     "output_type": "execute_result"
    }
   ],
   "source": [
    "#fill values\n",
    "sales_Q1.add(sales_Q2,fill_value=0)"
   ]
  },
  {
   "cell_type": "code",
   "execution_count": null,
   "id": "7ebb7942",
   "metadata": {},
   "outputs": [],
   "source": []
  }
 ],
 "metadata": {
  "kernelspec": {
   "display_name": "Python 3 (ipykernel)",
   "language": "python",
   "name": "python3"
  },
  "language_info": {
   "codemirror_mode": {
    "name": "ipython",
    "version": 3
   },
   "file_extension": ".py",
   "mimetype": "text/x-python",
   "name": "python",
   "nbconvert_exporter": "python",
   "pygments_lexer": "ipython3",
   "version": "3.11.5"
  }
 },
 "nbformat": 4,
 "nbformat_minor": 5
}
