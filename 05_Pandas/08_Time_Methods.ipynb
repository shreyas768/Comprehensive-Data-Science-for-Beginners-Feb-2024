{
 "cells": [
  {
   "cell_type": "code",
   "execution_count": 14,
   "id": "a23ce68e",
   "metadata": {},
   "outputs": [],
   "source": [
    "from datetime import datetime\n",
    "import pandas as pd"
   ]
  },
  {
   "cell_type": "code",
   "execution_count": 9,
   "id": "24985dc8",
   "metadata": {},
   "outputs": [],
   "source": [
    "my_yr = 2024\n",
    "my_mth = 3\n",
    "my_day = 2\n",
    "my_hr = 19\n",
    "my_min = 46\n",
    "my_sec = 10"
   ]
  },
  {
   "cell_type": "code",
   "execution_count": 10,
   "id": "31e4f502",
   "metadata": {},
   "outputs": [],
   "source": [
    "my_datetime = datetime(my_yr,my_mth,my_day,my_hr,my_min,my_sec)"
   ]
  },
  {
   "cell_type": "code",
   "execution_count": 16,
   "id": "efbc3e49",
   "metadata": {},
   "outputs": [
    {
     "data": {
      "text/plain": [
       "datetime.datetime"
      ]
     },
     "execution_count": 16,
     "metadata": {},
     "output_type": "execute_result"
    }
   ],
   "source": [
    "type(my_datetime)"
   ]
  },
  {
   "cell_type": "code",
   "execution_count": 11,
   "id": "225f378d",
   "metadata": {},
   "outputs": [
    {
     "data": {
      "text/plain": [
       "19"
      ]
     },
     "execution_count": 11,
     "metadata": {},
     "output_type": "execute_result"
    }
   ],
   "source": [
    "my_datetime.hour"
   ]
  },
  {
   "cell_type": "code",
   "execution_count": 13,
   "id": "4c0d6219",
   "metadata": {},
   "outputs": [
    {
     "data": {
      "text/plain": [
       "6"
      ]
     },
     "execution_count": 13,
     "metadata": {},
     "output_type": "execute_result"
    }
   ],
   "source": [
    "my_datetime.isoweekday()"
   ]
  },
  {
   "cell_type": "code",
   "execution_count": 15,
   "id": "5530c250",
   "metadata": {},
   "outputs": [
    {
     "data": {
      "text/plain": [
       "0    Jul 31, 2009\n",
       "1    Jan 12, 2010\n",
       "2            None\n",
       "dtype: object"
      ]
     },
     "execution_count": 15,
     "metadata": {},
     "output_type": "execute_result"
    }
   ],
   "source": [
    "ser = pd.Series(['Jul 31, 2009', 'Jan 12, 2010', None])\n",
    "ser"
   ]
  },
  {
   "cell_type": "code",
   "execution_count": 17,
   "id": "9d0e7bc7",
   "metadata": {},
   "outputs": [
    {
     "data": {
      "text/plain": [
       "0   2009-07-31\n",
       "1   2010-01-12\n",
       "2          NaT\n",
       "dtype: datetime64[ns]"
      ]
     },
     "execution_count": 17,
     "metadata": {},
     "output_type": "execute_result"
    }
   ],
   "source": [
    "pd.to_datetime(ser)"
   ]
  },
  {
   "cell_type": "code",
   "execution_count": 18,
   "id": "4367b685",
   "metadata": {},
   "outputs": [],
   "source": [
    "dt = '31-12-2024'"
   ]
  },
  {
   "cell_type": "code",
   "execution_count": 19,
   "id": "e4d6e0e3",
   "metadata": {},
   "outputs": [
    {
     "name": "stderr",
     "output_type": "stream",
     "text": [
      "/var/folders/wl/v3x3g82n3b38s3cvwvtr0r7h0000gn/T/ipykernel_1632/4144441875.py:1: UserWarning: Parsing dates in %d-%m-%Y format when dayfirst=False (the default) was specified. Pass `dayfirst=True` or specify a format to silence this warning.\n",
      "  pd.to_datetime(dt)\n"
     ]
    },
    {
     "data": {
      "text/plain": [
       "Timestamp('2024-12-31 00:00:00')"
      ]
     },
     "execution_count": 19,
     "metadata": {},
     "output_type": "execute_result"
    }
   ],
   "source": [
    "pd.to_datetime(dt)"
   ]
  },
  {
   "cell_type": "code",
   "execution_count": 35,
   "id": "e9749d94",
   "metadata": {},
   "outputs": [],
   "source": [
    "dt1 = '10-12-2024'"
   ]
  },
  {
   "cell_type": "code",
   "execution_count": 36,
   "id": "c0d1344c",
   "metadata": {},
   "outputs": [
    {
     "data": {
      "text/plain": [
       "Timestamp('2024-10-12 00:00:00')"
      ]
     },
     "execution_count": 36,
     "metadata": {},
     "output_type": "execute_result"
    }
   ],
   "source": [
    "pd.to_datetime(dt1,dayfirst=False)"
   ]
  },
  {
   "cell_type": "code",
   "execution_count": 37,
   "id": "364f56bf",
   "metadata": {},
   "outputs": [
    {
     "data": {
      "text/plain": [
       "Timestamp('2024-12-10 00:00:00')"
      ]
     },
     "execution_count": 37,
     "metadata": {},
     "output_type": "execute_result"
    }
   ],
   "source": [
    "pd.to_datetime(dt1,dayfirst=True)"
   ]
  },
  {
   "cell_type": "code",
   "execution_count": null,
   "id": "81c7c400",
   "metadata": {},
   "outputs": [],
   "source": []
  }
 ],
 "metadata": {
  "kernelspec": {
   "display_name": "Python 3 (ipykernel)",
   "language": "python",
   "name": "python3"
  },
  "language_info": {
   "codemirror_mode": {
    "name": "ipython",
    "version": 3
   },
   "file_extension": ".py",
   "mimetype": "text/x-python",
   "name": "python",
   "nbconvert_exporter": "python",
   "pygments_lexer": "ipython3",
   "version": "3.11.5"
  }
 },
 "nbformat": 4,
 "nbformat_minor": 5
}
