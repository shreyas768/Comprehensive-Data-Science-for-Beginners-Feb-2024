{
 "cells": [
  {
   "cell_type": "code",
   "execution_count": 13,
   "id": "2f37bbb2",
   "metadata": {},
   "outputs": [],
   "source": [
    "import numpy as np\n",
    "import pandas as pd "
   ]
  },
  {
   "cell_type": "code",
   "execution_count": 14,
   "id": "1b69fc80",
   "metadata": {},
   "outputs": [],
   "source": [
    "my_index = ['USA','MEXICO','CANADA']\n",
    "my_data = [1776,1867,1821]"
   ]
  },
  {
   "cell_type": "code",
   "execution_count": 15,
   "id": "cf2af9cf",
   "metadata": {},
   "outputs": [],
   "source": [
    "myser = pd.Series(data=my_data)"
   ]
  },
  {
   "cell_type": "code",
   "execution_count": 16,
   "id": "a4dae77d",
   "metadata": {},
   "outputs": [
    {
     "data": {
      "text/plain": [
       "USA       1776\n",
       "MEXICO    1867\n",
       "CANADA    1821\n",
       "dtype: int64"
      ]
     },
     "execution_count": 16,
     "metadata": {},
     "output_type": "execute_result"
    }
   ],
   "source": [
    "pd.Series(data=my_data, index= my_index)"
   ]
  },
  {
   "cell_type": "code",
   "execution_count": 17,
   "id": "0f278394",
   "metadata": {},
   "outputs": [
    {
     "data": {
      "text/plain": [
       "array([67, 30, 50, 46])"
      ]
     },
     "execution_count": 17,
     "metadata": {},
     "output_type": "execute_result"
    }
   ],
   "source": [
    "np.random.randint(0,100,4)"
   ]
  },
  {
   "cell_type": "code",
   "execution_count": null,
   "id": "d7abd50b",
   "metadata": {},
   "outputs": [],
   "source": []
  }
 ],
 "metadata": {
  "kernelspec": {
   "display_name": "Python 3 (ipykernel)",
   "language": "python",
   "name": "python3"
  },
  "language_info": {
   "codemirror_mode": {
    "name": "ipython",
    "version": 3
   },
   "file_extension": ".py",
   "mimetype": "text/x-python",
   "name": "python",
   "nbconvert_exporter": "python",
   "pygments_lexer": "ipython3",
   "version": "3.11.5"
  }
 },
 "nbformat": 4,
 "nbformat_minor": 5
}
