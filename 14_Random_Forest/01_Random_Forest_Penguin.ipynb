{
 "cells": [
  {
   "cell_type": "code",
   "execution_count": 7,
   "id": "09f3f178-af37-442e-8d83-718ff11b0794",
   "metadata": {},
   "outputs": [],
   "source": [
    "import numpy as np\n",
    "import pandas as pd\n",
    "import matplotlib.pyplot as plt\n",
    "import seaborn as sns\n",
    "from sklearn.model_selection import train_test_split\n",
    "from sklearn.ensemble import RandomForestClassifier"
   ]
  },
  {
   "cell_type": "code",
   "execution_count": 9,
   "id": "b011de22-a9fa-4093-9dcd-fb96c1974f46",
   "metadata": {},
   "outputs": [
    {
     "data": {
      "text/html": [
       "<div>\n",
       "<style scoped>\n",
       "    .dataframe tbody tr th:only-of-type {\n",
       "        vertical-align: middle;\n",
       "    }\n",
       "\n",
       "    .dataframe tbody tr th {\n",
       "        vertical-align: top;\n",
       "    }\n",
       "\n",
       "    .dataframe thead th {\n",
       "        text-align: right;\n",
       "    }\n",
       "</style>\n",
       "<table border=\"1\" class=\"dataframe\">\n",
       "  <thead>\n",
       "    <tr style=\"text-align: right;\">\n",
       "      <th></th>\n",
       "      <th>species</th>\n",
       "      <th>island</th>\n",
       "      <th>culmen_length_mm</th>\n",
       "      <th>culmen_depth_mm</th>\n",
       "      <th>flipper_length_mm</th>\n",
       "      <th>body_mass_g</th>\n",
       "      <th>sex</th>\n",
       "    </tr>\n",
       "  </thead>\n",
       "  <tbody>\n",
       "    <tr>\n",
       "      <th>0</th>\n",
       "      <td>Adelie</td>\n",
       "      <td>Torgersen</td>\n",
       "      <td>39.1</td>\n",
       "      <td>18.7</td>\n",
       "      <td>181.0</td>\n",
       "      <td>3750.0</td>\n",
       "      <td>MALE</td>\n",
       "    </tr>\n",
       "    <tr>\n",
       "      <th>1</th>\n",
       "      <td>Adelie</td>\n",
       "      <td>Torgersen</td>\n",
       "      <td>39.5</td>\n",
       "      <td>17.4</td>\n",
       "      <td>186.0</td>\n",
       "      <td>3800.0</td>\n",
       "      <td>FEMALE</td>\n",
       "    </tr>\n",
       "    <tr>\n",
       "      <th>2</th>\n",
       "      <td>Adelie</td>\n",
       "      <td>Torgersen</td>\n",
       "      <td>40.3</td>\n",
       "      <td>18.0</td>\n",
       "      <td>195.0</td>\n",
       "      <td>3250.0</td>\n",
       "      <td>FEMALE</td>\n",
       "    </tr>\n",
       "    <tr>\n",
       "      <th>3</th>\n",
       "      <td>Adelie</td>\n",
       "      <td>Torgersen</td>\n",
       "      <td>NaN</td>\n",
       "      <td>NaN</td>\n",
       "      <td>NaN</td>\n",
       "      <td>NaN</td>\n",
       "      <td>NaN</td>\n",
       "    </tr>\n",
       "    <tr>\n",
       "      <th>4</th>\n",
       "      <td>Adelie</td>\n",
       "      <td>Torgersen</td>\n",
       "      <td>36.7</td>\n",
       "      <td>19.3</td>\n",
       "      <td>193.0</td>\n",
       "      <td>3450.0</td>\n",
       "      <td>FEMALE</td>\n",
       "    </tr>\n",
       "  </tbody>\n",
       "</table>\n",
       "</div>"
      ],
      "text/plain": [
       "  species     island  culmen_length_mm  culmen_depth_mm  flipper_length_mm  \\\n",
       "0  Adelie  Torgersen              39.1             18.7              181.0   \n",
       "1  Adelie  Torgersen              39.5             17.4              186.0   \n",
       "2  Adelie  Torgersen              40.3             18.0              195.0   \n",
       "3  Adelie  Torgersen               NaN              NaN                NaN   \n",
       "4  Adelie  Torgersen              36.7             19.3              193.0   \n",
       "\n",
       "   body_mass_g     sex  \n",
       "0       3750.0    MALE  \n",
       "1       3800.0  FEMALE  \n",
       "2       3250.0  FEMALE  \n",
       "3          NaN     NaN  \n",
       "4       3450.0  FEMALE  "
      ]
     },
     "execution_count": 9,
     "metadata": {},
     "output_type": "execute_result"
    }
   ],
   "source": [
    "df = pd.read_csv('penguins_size.csv')\n",
    "df.head()"
   ]
  },
  {
   "cell_type": "code",
   "execution_count": 10,
   "id": "8b2bb8cc-2c1a-4f7c-9542-3febbacb996e",
   "metadata": {},
   "outputs": [
    {
     "data": {
      "text/plain": [
       "species              0\n",
       "island               0\n",
       "culmen_length_mm     0\n",
       "culmen_depth_mm      0\n",
       "flipper_length_mm    0\n",
       "body_mass_g          0\n",
       "sex                  0\n",
       "dtype: int64"
      ]
     },
     "execution_count": 10,
     "metadata": {},
     "output_type": "execute_result"
    }
   ],
   "source": [
    "df['sex'].replace('.','FEMALE',inplace=True)\n",
    "df = df.dropna()\n",
    "df.isna().sum()"
   ]
  },
  {
   "cell_type": "code",
   "execution_count": 11,
   "id": "8b157f52-c1a2-42b5-85d3-fdfa49de6cd0",
   "metadata": {},
   "outputs": [],
   "source": [
    "X = pd.get_dummies(df.drop('species',axis=1),drop_first=True)\n",
    "y = df['species']"
   ]
  },
  {
   "cell_type": "markdown",
   "id": "be0dadcf-33a9-4c70-8333-72e69897b3d2",
   "metadata": {},
   "source": [
    "### Train Test Split"
   ]
  },
  {
   "cell_type": "code",
   "execution_count": 12,
   "id": "68572563-51b4-4284-bcc2-f6ac11f119c8",
   "metadata": {},
   "outputs": [],
   "source": [
    "\n",
    "X_train, X_test, y_train, y_test = train_test_split(X,y,test_size=0.3,random_state=101)"
   ]
  },
  {
   "cell_type": "markdown",
   "id": "0aa4bd8d-8f02-4691-ad8e-ce72bff9e4e4",
   "metadata": {},
   "source": [
    "### Random Forest"
   ]
  },
  {
   "cell_type": "code",
   "execution_count": 24,
   "id": "818c9ecf-2f9b-4b44-b1f9-e3a11a69dccd",
   "metadata": {},
   "outputs": [
    {
     "name": "stderr",
     "output_type": "stream",
     "text": [
      "/Users/shrey/anaconda3/lib/python3.11/site-packages/sklearn/ensemble/_forest.py:424: FutureWarning: `max_features='auto'` has been deprecated in 1.1 and will be removed in 1.3. To keep the past behaviour, explicitly set `max_features='sqrt'` or remove this parameter as it is also the default value for RandomForestClassifiers and ExtraTreesClassifiers.\n",
      "  warn(\n"
     ]
    },
    {
     "data": {
      "text/plain": [
       "array(['Chinstrap', 'Gentoo', 'Adelie', 'Chinstrap', 'Gentoo',\n",
       "       'Chinstrap', 'Adelie', 'Gentoo', 'Chinstrap', 'Gentoo', 'Adelie',\n",
       "       'Adelie', 'Adelie', 'Gentoo', 'Gentoo', 'Adelie', 'Gentoo',\n",
       "       'Adelie', 'Adelie', 'Adelie', 'Gentoo', 'Chinstrap', 'Adelie',\n",
       "       'Adelie', 'Adelie', 'Adelie', 'Chinstrap', 'Gentoo', 'Adelie',\n",
       "       'Chinstrap', 'Gentoo', 'Chinstrap', 'Gentoo', 'Adelie', 'Adelie',\n",
       "       'Chinstrap', 'Adelie', 'Gentoo', 'Chinstrap', 'Gentoo', 'Adelie',\n",
       "       'Adelie', 'Gentoo', 'Adelie', 'Adelie', 'Chinstrap', 'Chinstrap',\n",
       "       'Chinstrap', 'Chinstrap', 'Chinstrap', 'Adelie', 'Adelie',\n",
       "       'Gentoo', 'Gentoo', 'Adelie', 'Adelie', 'Chinstrap', 'Chinstrap',\n",
       "       'Gentoo', 'Adelie', 'Chinstrap', 'Gentoo', 'Adelie', 'Adelie',\n",
       "       'Adelie', 'Gentoo', 'Chinstrap', 'Chinstrap', 'Gentoo', 'Gentoo',\n",
       "       'Gentoo', 'Gentoo', 'Gentoo', 'Gentoo', 'Gentoo', 'Gentoo',\n",
       "       'Gentoo', 'Gentoo', 'Adelie', 'Gentoo', 'Adelie', 'Adelie',\n",
       "       'Gentoo', 'Adelie', 'Adelie', 'Gentoo', 'Adelie', 'Gentoo',\n",
       "       'Adelie', 'Chinstrap', 'Adelie', 'Gentoo', 'Adelie', 'Adelie',\n",
       "       'Chinstrap', 'Gentoo', 'Gentoo', 'Adelie', 'Chinstrap', 'Adelie',\n",
       "       'Gentoo'], dtype=object)"
      ]
     },
     "execution_count": 24,
     "metadata": {},
     "output_type": "execute_result"
    }
   ],
   "source": [
    "#help(RandomForestClassifier)\n",
    "rf = RandomForestClassifier(n_estimators=10, max_features='auto',random_state=101)\n",
    "rf.fit(X_train,y_train)\n",
    "y_pred = rf.predict(X_test)\n",
    "y_pred"
   ]
  },
  {
   "cell_type": "markdown",
   "id": "ee527d93-1bd7-48e4-8607-707d55f23247",
   "metadata": {},
   "source": [
    "## Evaluation"
   ]
  },
  {
   "cell_type": "code",
   "execution_count": 28,
   "id": "fe06760e-59fc-4bb2-bfa9-cbdbd6983995",
   "metadata": {},
   "outputs": [],
   "source": [
    "from sklearn.metrics import confusion_matrix, classification_report, accuracy_score"
   ]
  },
  {
   "cell_type": "code",
   "execution_count": 26,
   "id": "cccec2e7-274c-4c13-ba25-a28e43a84c75",
   "metadata": {},
   "outputs": [
    {
     "data": {
      "text/plain": [
       "array([[40,  1,  0],\n",
       "       [ 1, 22,  0],\n",
       "       [ 0,  0, 37]])"
      ]
     },
     "execution_count": 26,
     "metadata": {},
     "output_type": "execute_result"
    }
   ],
   "source": [
    "confusion_matrix(y_test,y_pred)"
   ]
  },
  {
   "cell_type": "code",
   "execution_count": 27,
   "id": "6ed1771b-7bf2-4d4d-a59a-7f1fb7ed2d09",
   "metadata": {},
   "outputs": [
    {
     "data": {
      "text/plain": [
       "array([3.46584088e-01, 1.20150588e-01, 2.39262547e-01, 1.48533620e-01,\n",
       "       1.39253740e-01, 2.10550136e-05, 6.19436222e-03])"
      ]
     },
     "execution_count": 27,
     "metadata": {},
     "output_type": "execute_result"
    }
   ],
   "source": [
    "rf.feature_importances_"
   ]
  },
  {
   "cell_type": "markdown",
   "id": "cf8a2e1d-8008-44ab-92ca-55b386c99b0b",
   "metadata": {},
   "source": [
    "### Choosing correct number of trees"
   ]
  },
  {
   "cell_type": "code",
   "execution_count": 42,
   "id": "e8af6564-a32a-40e9-bfdb-76f6e672a66b",
   "metadata": {},
   "outputs": [],
   "source": [
    "test_error = []\n",
    "\n",
    "for n in range(1,128):\n",
    "    rf1 = RandomForestClassifier(n_estimators=n,max_features='sqrt',random_state=150)\n",
    "    rf1.fit(X_train,y_train)\n",
    "    pred = rf1.predict(X_test)\n",
    "    test_error.append(1-accuracy_score(pred,y_test))"
   ]
  },
  {
   "cell_type": "code",
   "execution_count": 43,
   "id": "9c349cd6-2175-4b8a-b6a0-c6bc143dd725",
   "metadata": {},
   "outputs": [
    {
     "data": {
      "text/plain": [
       "[0.04950495049504955,\n",
       " 0.04950495049504955,\n",
       " 0.01980198019801982,\n",
       " 0.01980198019801982,\n",
       " 0.02970297029702973,\n",
       " 0.01980198019801982,\n",
       " 0.02970297029702973,\n",
       " 0.01980198019801982,\n",
       " 0.01980198019801982,\n",
       " 0.01980198019801982,\n",
       " 0.01980198019801982,\n",
       " 0.00990099009900991,\n",
       " 0.01980198019801982,\n",
       " 0.00990099009900991,\n",
       " 0.00990099009900991,\n",
       " 0.00990099009900991,\n",
       " 0.01980198019801982,\n",
       " 0.01980198019801982,\n",
       " 0.02970297029702973,\n",
       " 0.01980198019801982,\n",
       " 0.02970297029702973,\n",
       " 0.01980198019801982,\n",
       " 0.01980198019801982,\n",
       " 0.01980198019801982,\n",
       " 0.01980198019801982,\n",
       " 0.01980198019801982,\n",
       " 0.01980198019801982,\n",
       " 0.01980198019801982,\n",
       " 0.01980198019801982,\n",
       " 0.01980198019801982,\n",
       " 0.02970297029702973,\n",
       " 0.01980198019801982,\n",
       " 0.01980198019801982,\n",
       " 0.01980198019801982,\n",
       " 0.01980198019801982,\n",
       " 0.01980198019801982,\n",
       " 0.01980198019801982,\n",
       " 0.01980198019801982,\n",
       " 0.01980198019801982,\n",
       " 0.00990099009900991,\n",
       " 0.01980198019801982,\n",
       " 0.01980198019801982,\n",
       " 0.02970297029702973,\n",
       " 0.02970297029702973,\n",
       " 0.02970297029702973,\n",
       " 0.02970297029702973,\n",
       " 0.02970297029702973,\n",
       " 0.01980198019801982,\n",
       " 0.01980198019801982,\n",
       " 0.00990099009900991,\n",
       " 0.00990099009900991,\n",
       " 0.00990099009900991,\n",
       " 0.01980198019801982,\n",
       " 0.00990099009900991,\n",
       " 0.01980198019801982,\n",
       " 0.01980198019801982,\n",
       " 0.01980198019801982,\n",
       " 0.01980198019801982,\n",
       " 0.01980198019801982,\n",
       " 0.01980198019801982,\n",
       " 0.01980198019801982,\n",
       " 0.00990099009900991,\n",
       " 0.00990099009900991,\n",
       " 0.00990099009900991,\n",
       " 0.00990099009900991,\n",
       " 0.00990099009900991,\n",
       " 0.00990099009900991,\n",
       " 0.00990099009900991,\n",
       " 0.00990099009900991,\n",
       " 0.00990099009900991,\n",
       " 0.01980198019801982,\n",
       " 0.00990099009900991,\n",
       " 0.01980198019801982,\n",
       " 0.01980198019801982,\n",
       " 0.01980198019801982,\n",
       " 0.01980198019801982,\n",
       " 0.01980198019801982,\n",
       " 0.01980198019801982,\n",
       " 0.01980198019801982,\n",
       " 0.01980198019801982,\n",
       " 0.01980198019801982,\n",
       " 0.01980198019801982,\n",
       " 0.01980198019801982,\n",
       " 0.01980198019801982,\n",
       " 0.01980198019801982,\n",
       " 0.01980198019801982,\n",
       " 0.01980198019801982,\n",
       " 0.01980198019801982,\n",
       " 0.01980198019801982,\n",
       " 0.01980198019801982,\n",
       " 0.01980198019801982,\n",
       " 0.01980198019801982,\n",
       " 0.01980198019801982,\n",
       " 0.01980198019801982,\n",
       " 0.01980198019801982,\n",
       " 0.01980198019801982,\n",
       " 0.01980198019801982,\n",
       " 0.01980198019801982,\n",
       " 0.01980198019801982,\n",
       " 0.01980198019801982,\n",
       " 0.01980198019801982,\n",
       " 0.01980198019801982,\n",
       " 0.01980198019801982,\n",
       " 0.01980198019801982,\n",
       " 0.01980198019801982,\n",
       " 0.01980198019801982,\n",
       " 0.01980198019801982,\n",
       " 0.01980198019801982,\n",
       " 0.01980198019801982,\n",
       " 0.01980198019801982,\n",
       " 0.01980198019801982,\n",
       " 0.01980198019801982,\n",
       " 0.01980198019801982,\n",
       " 0.01980198019801982,\n",
       " 0.01980198019801982,\n",
       " 0.01980198019801982,\n",
       " 0.01980198019801982,\n",
       " 0.01980198019801982,\n",
       " 0.01980198019801982,\n",
       " 0.01980198019801982,\n",
       " 0.01980198019801982,\n",
       " 0.01980198019801982,\n",
       " 0.01980198019801982,\n",
       " 0.01980198019801982,\n",
       " 0.01980198019801982,\n",
       " 0.01980198019801982,\n",
       " 0.01980198019801982]"
      ]
     },
     "execution_count": 43,
     "metadata": {},
     "output_type": "execute_result"
    }
   ],
   "source": [
    "test_error"
   ]
  },
  {
   "cell_type": "code",
   "execution_count": 44,
   "id": "2d00565e-a219-4e2d-83b0-3159aaa55822",
   "metadata": {},
   "outputs": [
    {
     "data": {
      "image/png": "[encoded data removed]",
      "text/plain": [
       "<Figure size 640x480 with 1 Axes>"
      ]
     },
     "metadata": {},
     "output_type": "display_data"
    }
   ],
   "source": [
    "plt.plot(range(1,128),test_error,label='Test Error Vs N_Estimators')\n",
    "plt.legend()\n",
    "plt.xlim(0,10);"
   ]
  },
  {
   "cell_type": "code",
   "execution_count": null,
   "id": "11c38473-5645-4cb8-99c9-01392ff4a25b",
   "metadata": {},
   "outputs": [],
   "source": []
  }
 ],
 "metadata": {
  "kernelspec": {
   "display_name": "Python 3 (ipykernel)",
   "language": "python",
   "name": "python3"
  },
  "language_info": {
   "codemirror_mode": {
    "name": "ipython",
    "version": 3
   },
   "file_extension": ".py",
   "mimetype": "text/x-python",
   "name": "python",
   "nbconvert_exporter": "python",
   "pygments_lexer": "ipython3",
   "version": "3.11.5"
  }
 },
 "nbformat": 4,
 "nbformat_minor": 5
}
