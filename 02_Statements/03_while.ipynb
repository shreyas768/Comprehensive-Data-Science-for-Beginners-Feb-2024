{
 "cells": [
  {
   "cell_type": "code",
   "execution_count": 1,
   "id": "9b329023",
   "metadata": {},
   "outputs": [
    {
     "name": "stdout",
     "output_type": "stream",
     "text": [
      "My x is currently: 0\n",
      "x is still less than 10, adding 1 to x\n",
      "My x is currently: 1\n",
      "x is still less than 10, adding 1 to x\n",
      "My x is currently: 2\n",
      "x is still less than 10, adding 1 to x\n",
      "My x is currently: 3\n",
      "x is still less than 10, adding 1 to x\n",
      "My x is currently: 4\n",
      "x is still less than 10, adding 1 to x\n",
      "My x is currently: 5\n",
      "x is still less than 10, adding 1 to x\n",
      "My x is currently: 6\n",
      "x is still less than 10, adding 1 to x\n",
      "My x is currently: 7\n",
      "x is still less than 10, adding 1 to x\n",
      "My x is currently: 8\n",
      "x is still less than 10, adding 1 to x\n",
      "My x is currently: 9\n",
      "x is still less than 10, adding 1 to x\n"
     ]
    }
   ],
   "source": [
    "x = 0 \n",
    "\n",
    "while x < 10:\n",
    "    print('My x is currently:', x)\n",
    "    print('x is still less than 10, adding 1 to x')\n",
    "    x = x+1"
   ]
  },
  {
   "cell_type": "code",
   "execution_count": 2,
   "id": "c9ae8580",
   "metadata": {},
   "outputs": [
    {
     "name": "stdout",
     "output_type": "stream",
     "text": [
      "My x is currently: 0\n",
      "x is still less than 10, adding 1 to x\n",
      "My x is currently: 1\n",
      "x is still less than 10, adding 1 to x\n",
      "My x is currently: 2\n",
      "x is still less than 10, adding 1 to x\n",
      "My x is currently: 3\n",
      "x is still less than 10, adding 1 to x\n",
      "My x is currently: 4\n",
      "x is still less than 10, adding 1 to x\n",
      "My x is currently: 5\n",
      "x is still less than 10, adding 1 to x\n",
      "My x is currently: 6\n",
      "x is still less than 10, adding 1 to x\n",
      "My x is currently: 7\n",
      "x is still less than 10, adding 1 to x\n",
      "My x is currently: 8\n",
      "x is still less than 10, adding 1 to x\n",
      "My x is currently: 9\n",
      "x is still less than 10, adding 1 to x\n",
      "All done upto x < 10\n"
     ]
    }
   ],
   "source": [
    "x = 0 \n",
    "\n",
    "while x < 10:\n",
    "    print('My x is currently:', x)\n",
    "    print('x is still less than 10, adding 1 to x')\n",
    "    x = x+1\n",
    "else:\n",
    "    print('All done upto x < 10')"
   ]
  },
  {
   "cell_type": "code",
   "execution_count": null,
   "id": "ef1619a1",
   "metadata": {},
   "outputs": [],
   "source": []
  }
 ],
 "metadata": {
  "kernelspec": {
   "display_name": "Python 3 (ipykernel)",
   "language": "python",
   "name": "python3"
  },
  "language_info": {
   "codemirror_mode": {
    "name": "ipython",
    "version": 3
   },
   "file_extension": ".py",
   "mimetype": "text/x-python",
   "name": "python",
   "nbconvert_exporter": "python",
   "pygments_lexer": "ipython3",
   "version": "3.11.5"
  }
 },
 "nbformat": 4,
 "nbformat_minor": 5
}
