{
 "cells": [
  {
   "cell_type": "code",
   "execution_count": 43,
   "id": "b91cab54",
   "metadata": {},
   "outputs": [],
   "source": [
    "lst = [1,2,3,4,5,6,7,8,9,10]"
   ]
  },
  {
   "cell_type": "code",
   "execution_count": 20,
   "id": "be14eacf",
   "metadata": {},
   "outputs": [
    {
     "name": "stdout",
     "output_type": "stream",
     "text": [
      "1\n",
      "4\n",
      "9\n",
      "16\n",
      "25\n",
      "36\n",
      "49\n",
      "64\n",
      "81\n",
      "100\n"
     ]
    }
   ],
   "source": [
    "for x in lst:\n",
    "    print(x**2)"
   ]
  },
  {
   "cell_type": "code",
   "execution_count": 6,
   "id": "67b70557",
   "metadata": {},
   "outputs": [
    {
     "data": {
      "text/plain": [
       "2"
      ]
     },
     "execution_count": 6,
     "metadata": {},
     "output_type": "execute_result"
    }
   ],
   "source": [
    "17%5"
   ]
  },
  {
   "cell_type": "code",
   "execution_count": 7,
   "id": "961b4bbe",
   "metadata": {},
   "outputs": [
    {
     "name": "stdout",
     "output_type": "stream",
     "text": [
      "1\n",
      "3\n",
      "5\n",
      "7\n",
      "9\n"
     ]
    }
   ],
   "source": [
    "for x in lst:\n",
    "    if x%2 == 1:\n",
    "        print(x)"
   ]
  },
  {
   "cell_type": "code",
   "execution_count": 14,
   "id": "d8c32724",
   "metadata": {},
   "outputs": [
    {
     "name": "stdout",
     "output_type": "stream",
     "text": [
      "This is an odd number\n",
      "2\n",
      "This is an odd number\n",
      "4\n",
      "This is an odd number\n",
      "6\n",
      "This is an odd number\n",
      "8\n",
      "This is an odd number\n",
      "10\n"
     ]
    }
   ],
   "source": [
    "for x in lst:\n",
    "    if x%2 == 0:\n",
    "        print(x)\n",
    "    else:\n",
    "        print('This is an odd number')"
   ]
  },
  {
   "cell_type": "code",
   "execution_count": 15,
   "id": "3691ecc1",
   "metadata": {},
   "outputs": [
    {
     "data": {
      "text/plain": [
       "[1, 2, 3, 4, 5, 6, 7, 8, 9, 10]"
      ]
     },
     "execution_count": 15,
     "metadata": {},
     "output_type": "execute_result"
    }
   ],
   "source": [
    "lst"
   ]
  },
  {
   "cell_type": "code",
   "execution_count": 18,
   "id": "47932e32",
   "metadata": {},
   "outputs": [
    {
     "name": "stdout",
     "output_type": "stream",
     "text": [
      "55\n"
     ]
    }
   ],
   "source": [
    "sm = 0\n",
    "\n",
    "for num in lst:\n",
    "    sm = sm + num\n",
    "print(sm)"
   ]
  },
  {
   "cell_type": "code",
   "execution_count": 21,
   "id": "c4ecb90d",
   "metadata": {},
   "outputs": [
    {
     "name": "stdout",
     "output_type": "stream",
     "text": [
      "g\n",
      "n\n",
      "i\n",
      "r\n",
      "t\n",
      "s\n",
      " \n",
      "a\n",
      " \n",
      "s\n",
      "i\n",
      " \n",
      "s\n",
      "i\n",
      "h\n",
      "T\n"
     ]
    }
   ],
   "source": [
    "st = 'This is a string'\n",
    "\n",
    "for i in st[::-1]:\n",
    "    print(i)"
   ]
  },
  {
   "cell_type": "code",
   "execution_count": 23,
   "id": "31a14f83",
   "metadata": {},
   "outputs": [
    {
     "name": "stdout",
     "output_type": "stream",
     "text": [
      "g\n",
      "n\n",
      "i\n",
      "r\n",
      "t\n",
      "s\n",
      " \n",
      "a\n",
      " \n",
      "s\n",
      "i\n",
      " \n",
      "s\n",
      "i\n",
      "h\n",
      "T\n"
     ]
    }
   ],
   "source": [
    "st = 'This is a string'\n",
    "st1 = st[::-1]\n",
    "for i in st1:\n",
    "    print(i)"
   ]
  },
  {
   "cell_type": "code",
   "execution_count": 25,
   "id": "7eba5998",
   "metadata": {},
   "outputs": [],
   "source": [
    "# Tuple Unpacking\n",
    "lst1 = [(2,4),(6,8),(10,12)]"
   ]
  },
  {
   "cell_type": "code",
   "execution_count": 28,
   "id": "77e2ab5e",
   "metadata": {},
   "outputs": [
    {
     "data": {
      "text/plain": [
       "tuple"
      ]
     },
     "execution_count": 28,
     "metadata": {},
     "output_type": "execute_result"
    }
   ],
   "source": [
    "type(lst1[0])"
   ]
  },
  {
   "cell_type": "code",
   "execution_count": 29,
   "id": "13abb3f7",
   "metadata": {},
   "outputs": [
    {
     "name": "stdout",
     "output_type": "stream",
     "text": [
      "(2, 4)\n",
      "(6, 8)\n",
      "(10, 12)\n"
     ]
    }
   ],
   "source": [
    "for tup in lst1:\n",
    "    print(tup)"
   ]
  },
  {
   "cell_type": "code",
   "execution_count": 30,
   "id": "6cb5741a",
   "metadata": {},
   "outputs": [
    {
     "name": "stdout",
     "output_type": "stream",
     "text": [
      "6\n",
      "14\n",
      "22\n"
     ]
    }
   ],
   "source": [
    "for (x,y) in lst1:\n",
    "    print(x+y)"
   ]
  },
  {
   "cell_type": "code",
   "execution_count": 31,
   "id": "ecb20a64",
   "metadata": {},
   "outputs": [],
   "source": [
    "d = {'k1':1,'k2':3,'k4':4}"
   ]
  },
  {
   "cell_type": "code",
   "execution_count": 37,
   "id": "9ce178c9",
   "metadata": {},
   "outputs": [
    {
     "data": {
      "text/plain": [
       "['k1', 'k2', 'k4']"
      ]
     },
     "execution_count": 37,
     "metadata": {},
     "output_type": "execute_result"
    }
   ],
   "source": [
    "list(d.keys())"
   ]
  },
  {
   "cell_type": "code",
   "execution_count": 40,
   "id": "dcad0c6e",
   "metadata": {},
   "outputs": [
    {
     "data": {
      "text/plain": [
       "[1, 3, 4]"
      ]
     },
     "execution_count": 40,
     "metadata": {},
     "output_type": "execute_result"
    }
   ],
   "source": [
    "list(d.values())"
   ]
  },
  {
   "cell_type": "code",
   "execution_count": 33,
   "id": "7896c3c5",
   "metadata": {},
   "outputs": [
    {
     "name": "stdout",
     "output_type": "stream",
     "text": [
      "k1\n",
      "k2\n",
      "k4\n"
     ]
    }
   ],
   "source": [
    "for item in d:\n",
    "    print(item)"
   ]
  },
  {
   "cell_type": "code",
   "execution_count": 32,
   "id": "b73d7dcf",
   "metadata": {},
   "outputs": [
    {
     "data": {
      "text/plain": [
       "dict_items([('k1', 1), ('k2', 3), ('k4', 4)])"
      ]
     },
     "execution_count": 32,
     "metadata": {},
     "output_type": "execute_result"
    }
   ],
   "source": [
    "d.items()"
   ]
  },
  {
   "cell_type": "code",
   "execution_count": 35,
   "id": "8df69db5",
   "metadata": {},
   "outputs": [
    {
     "name": "stdout",
     "output_type": "stream",
     "text": [
      "This is: k1\n",
      "1\n",
      "This is: k2\n",
      "3\n",
      "This is: k4\n",
      "4\n"
     ]
    }
   ],
   "source": [
    "#Dictionary Unpacking\n",
    "\n",
    "for (k,v) in d.items():\n",
    "    print('This is:',k)\n",
    "    print(v)"
   ]
  },
  {
   "cell_type": "code",
   "execution_count": 42,
   "id": "55ce6d70",
   "metadata": {},
   "outputs": [
    {
     "name": "stdout",
     "output_type": "stream",
     "text": [
      "word --> This word has even length\n",
      "in --> This word has even length\n",
      "this --> This word has even length\n",
      "sentence --> This word has even length\n",
      "that --> This word has even length\n",
      "as --> This word has even length\n",
      "an --> This word has even length\n",
      "even --> This word has even length\n",
      "number --> This word has even length\n",
      "of --> This word has even length\n"
     ]
    }
   ],
   "source": [
    "st = 'Print every word in this sentence that as an even number of letters'\n",
    "\n",
    "for x in st.split():\n",
    "    if len(x)%2 == 0:\n",
    "        print(x + ' --> This word has even length')"
   ]
  },
  {
   "cell_type": "markdown",
   "id": "90bea6ba",
   "metadata": {},
   "source": [
    "### Assignment\n",
    "* write a program that prints integer from 1 to 100. However, for multiples of 3, it prints 'IITr' and for multiples of 5, it prints 'Shreyas'. For multiples for both 3 and 5, it prints your name"
   ]
  },
  {
   "cell_type": "code",
   "execution_count": 1,
   "id": "b990196b",
   "metadata": {},
   "outputs": [
    {
     "name": "stdout",
     "output_type": "stream",
     "text": [
      "1\n",
      "2\n",
      "IITr\n",
      "4\n",
      "Shreyas\n",
      "IITr\n",
      "7\n",
      "8\n",
      "IITr\n",
      "Shreyas\n",
      "11\n",
      "IITr\n",
      "13\n",
      "14\n",
      "Shashi\n",
      "16\n",
      "17\n",
      "IITr\n",
      "19\n",
      "Shreyas\n",
      "IITr\n",
      "22\n",
      "23\n",
      "IITr\n",
      "Shreyas\n",
      "26\n",
      "IITr\n",
      "28\n",
      "29\n",
      "Shashi\n",
      "31\n",
      "32\n",
      "IITr\n",
      "34\n",
      "Shreyas\n",
      "IITr\n",
      "37\n",
      "38\n",
      "IITr\n",
      "Shreyas\n",
      "41\n",
      "IITr\n",
      "43\n",
      "44\n",
      "Shashi\n",
      "46\n",
      "47\n",
      "IITr\n",
      "49\n",
      "Shreyas\n",
      "IITr\n",
      "52\n",
      "53\n",
      "IITr\n",
      "Shreyas\n",
      "56\n",
      "IITr\n",
      "58\n",
      "59\n",
      "Shashi\n",
      "61\n",
      "62\n",
      "IITr\n",
      "64\n",
      "Shreyas\n",
      "IITr\n",
      "67\n",
      "68\n",
      "IITr\n",
      "Shreyas\n",
      "71\n",
      "IITr\n",
      "73\n",
      "74\n",
      "Shashi\n",
      "76\n",
      "77\n",
      "IITr\n",
      "79\n",
      "Shreyas\n",
      "IITr\n",
      "82\n",
      "83\n",
      "IITr\n",
      "Shreyas\n",
      "86\n",
      "IITr\n",
      "88\n",
      "89\n",
      "Shashi\n",
      "91\n",
      "92\n",
      "IITr\n",
      "94\n",
      "Shreyas\n",
      "IITr\n",
      "97\n",
      "98\n",
      "IITr\n",
      "Shreyas\n"
     ]
    }
   ],
   "source": [
    "for item in range(1,101):\n",
    "    if item%3 ==0 and item%5 == 0:\n",
    "        print('Shashi')\n",
    "    elif item%3==0:\n",
    "        print('IITr')\n",
    "    elif item%5==0:\n",
    "        print('Shreyas')\n",
    "    else:\n",
    "        print(item)"
   ]
  },
  {
   "cell_type": "code",
   "execution_count": null,
   "id": "db42c394",
   "metadata": {},
   "outputs": [],
   "source": []
  }
 ],
 "metadata": {
  "kernelspec": {
   "display_name": "Python 3 (ipykernel)",
   "language": "python",
   "name": "python3"
  },
  "language_info": {
   "codemirror_mode": {
    "name": "ipython",
    "version": 3
   },
   "file_extension": ".py",
   "mimetype": "text/x-python",
   "name": "python",
   "nbconvert_exporter": "python",
   "pygments_lexer": "ipython3",
   "version": "3.11.5"
  }
 },
 "nbformat": 4,
 "nbformat_minor": 5
}
