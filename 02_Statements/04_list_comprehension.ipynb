{
 "cells": [
  {
   "cell_type": "code",
   "execution_count": 1,
   "id": "a76aa25b",
   "metadata": {},
   "outputs": [
    {
     "data": {
      "text/plain": [
       "['w', 'o', 'r', 'd']"
      ]
     },
     "execution_count": 1,
     "metadata": {},
     "output_type": "execute_result"
    }
   ],
   "source": [
    "st = 'word'\n",
    "lst = []\n",
    "for i in st:\n",
    "    lst.append(i)\n",
    "    \n",
    "lst"
   ]
  },
  {
   "cell_type": "code",
   "execution_count": 2,
   "id": "c3d26bb8",
   "metadata": {},
   "outputs": [
    {
     "data": {
      "text/plain": [
       "['w', 'o', 'r', 'd']"
      ]
     },
     "execution_count": 2,
     "metadata": {},
     "output_type": "execute_result"
    }
   ],
   "source": [
    "[i for i in st]"
   ]
  },
  {
   "cell_type": "code",
   "execution_count": 7,
   "id": "b0f24ff3",
   "metadata": {},
   "outputs": [
    {
     "data": {
      "text/plain": [
       "[1, 4, 9, 16, 25, 36, 49, 64]"
      ]
     },
     "execution_count": 7,
     "metadata": {},
     "output_type": "execute_result"
    }
   ],
   "source": [
    "#create a list of square of numbers in list1\n",
    "lst1 = [1,2,3,4,5,6,7,8]\n",
    "[x**2 for x in lst1]"
   ]
  },
  {
   "cell_type": "code",
   "execution_count": 8,
   "id": "40a3a186",
   "metadata": {},
   "outputs": [
    {
     "data": {
      "text/plain": [
       "[1, 9, 25, 49]"
      ]
     },
     "execution_count": 8,
     "metadata": {},
     "output_type": "execute_result"
    }
   ],
   "source": [
    "#create a list of square of all odd numbers in list1\n",
    "\n",
    "[x**2 for x in lst1 if x%2 == 1]"
   ]
  },
  {
   "cell_type": "code",
   "execution_count": 12,
   "id": "5cd5669b",
   "metadata": {
    "scrolled": true
   },
   "outputs": [
    {
     "data": {
      "text/plain": [
       "[25, 49]"
      ]
     },
     "execution_count": 12,
     "metadata": {},
     "output_type": "execute_result"
    }
   ],
   "source": [
    "#create a list of square (greater than 20 )of all odd numbers in list1\n",
    "[y for y in [x**2 for x in lst1 if x%2 == 1] if y > 20]"
   ]
  },
  {
   "cell_type": "code",
   "execution_count": 4,
   "id": "02bc9ccf",
   "metadata": {},
   "outputs": [
    {
     "data": {
      "text/plain": [
       "[32.0, 50.0, 68.18, 95.0]"
      ]
     },
     "execution_count": 4,
     "metadata": {},
     "output_type": "execute_result"
    }
   ],
   "source": [
    "#Convert celsuis to fahrenheit\n",
    "celsuis = [0,10,20.1,35]\n",
    "[(x*1.8+32) for x in celsuis]"
   ]
  },
  {
   "cell_type": "code",
   "execution_count": 15,
   "id": "ba39d77f",
   "metadata": {},
   "outputs": [
    {
     "data": {
      "text/plain": [
       "[0, 3, 6, 9]"
      ]
     },
     "execution_count": 15,
     "metadata": {},
     "output_type": "execute_result"
    }
   ],
   "source": [
    "list(range(0,11,3))"
   ]
  },
  {
   "cell_type": "code",
   "execution_count": 2,
   "id": "e98429c5",
   "metadata": {},
   "outputs": [
    {
     "data": {
      "text/plain": [
       "['C', 'a', 'l', 'o', 't', 'f', 'l', 'o', 'e', 'w', 'i', 't', 's']"
      ]
     },
     "execution_count": 2,
     "metadata": {},
     "output_type": "execute_result"
    }
   ],
   "source": [
    "st1 = 'Create a list of the first letters of every word in this string'\n",
    "[i[0] for i in st1.split()]"
   ]
  },
  {
   "cell_type": "code",
   "execution_count": 3,
   "id": "a5c999f5",
   "metadata": {},
   "outputs": [
    {
     "data": {
      "text/plain": [
       "['Create', 'list', 'of', 'of', 'word', 'in', 'this', 'string']"
      ]
     },
     "execution_count": 3,
     "metadata": {},
     "output_type": "execute_result"
    }
   ],
   "source": [
    "#list of words whose len is even\n",
    "[i for i in st1.split() if len(i)%2==0]"
   ]
  },
  {
   "cell_type": "code",
   "execution_count": null,
   "id": "f7ba77dd",
   "metadata": {},
   "outputs": [],
   "source": []
  }
 ],
 "metadata": {
  "kernelspec": {
   "display_name": "Python 3 (ipykernel)",
   "language": "python",
   "name": "python3"
  },
  "language_info": {
   "codemirror_mode": {
    "name": "ipython",
    "version": 3
   },
   "file_extension": ".py",
   "mimetype": "text/x-python",
   "name": "python",
   "nbconvert_exporter": "python",
   "pygments_lexer": "ipython3",
   "version": "3.11.5"
  }
 },
 "nbformat": 4,
 "nbformat_minor": 5
}
