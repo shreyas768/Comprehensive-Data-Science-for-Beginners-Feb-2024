{
 "cells": [
  {
   "cell_type": "markdown",
   "id": "30ac5b5f",
   "metadata": {},
   "source": [
    "### if"
   ]
  },
  {
   "cell_type": "code",
   "execution_count": 1,
   "id": "f1f76fbe",
   "metadata": {},
   "outputs": [
    {
     "data": {
      "text/plain": [
       "True"
      ]
     },
     "execution_count": 1,
     "metadata": {},
     "output_type": "execute_result"
    }
   ],
   "source": [
    "1 == 1"
   ]
  },
  {
   "cell_type": "code",
   "execution_count": 2,
   "id": "f9d4195a",
   "metadata": {},
   "outputs": [
    {
     "name": "stdout",
     "output_type": "stream",
     "text": [
      "this is true\n"
     ]
    }
   ],
   "source": [
    "if 1==1:\n",
    "    print('this is true')"
   ]
  },
  {
   "cell_type": "code",
   "execution_count": 3,
   "id": "b07aed9a",
   "metadata": {},
   "outputs": [
    {
     "name": "stdout",
     "output_type": "stream",
     "text": [
      "this is true\n"
     ]
    }
   ],
   "source": [
    "x = True\n",
    "\n",
    "if x:\n",
    "    print('this is true')"
   ]
  },
  {
   "cell_type": "code",
   "execution_count": 6,
   "id": "fd956821",
   "metadata": {},
   "outputs": [
    {
     "name": "stdout",
     "output_type": "stream",
     "text": [
      "this is true\n"
     ]
    }
   ],
   "source": [
    "\n",
    "if True:\n",
    "    print('this is true')"
   ]
  },
  {
   "cell_type": "code",
   "execution_count": 4,
   "id": "d62107f1",
   "metadata": {},
   "outputs": [],
   "source": [
    "if 1!=1:\n",
    "    print('this is true')"
   ]
  },
  {
   "cell_type": "markdown",
   "id": "7386ccc5",
   "metadata": {},
   "source": [
    "### else"
   ]
  },
  {
   "cell_type": "code",
   "execution_count": 7,
   "id": "bdbdf064",
   "metadata": {},
   "outputs": [
    {
     "name": "stdout",
     "output_type": "stream",
     "text": [
      "I will be printed if x is not true\n"
     ]
    }
   ],
   "source": [
    "x = 1 !=1\n",
    "if x:\n",
    "    print('this is true')\n",
    "else:\n",
    "    print('I will be printed if x is not true')"
   ]
  },
  {
   "cell_type": "markdown",
   "id": "274face7",
   "metadata": {},
   "source": [
    "### elif"
   ]
  },
  {
   "cell_type": "code",
   "execution_count": 9,
   "id": "f824d02b",
   "metadata": {},
   "outputs": [
    {
     "name": "stdout",
     "output_type": "stream",
     "text": [
      "Which place is this?\n"
     ]
    }
   ],
   "source": [
    "loc = 'Home'\n",
    "\n",
    "if loc == 'Shop':\n",
    "    print('Welcome to shop')\n",
    "elif loc == 'Bank':\n",
    "    print('Welcome to Bank')\n",
    "else:\n",
    "    print('Which place is this?')"
   ]
  },
  {
   "cell_type": "code",
   "execution_count": 10,
   "id": "5572919e",
   "metadata": {},
   "outputs": [
    {
     "name": "stdout",
     "output_type": "stream",
     "text": [
      "I'm at Home !!\n"
     ]
    }
   ],
   "source": [
    "loc = 'Home'\n",
    "\n",
    "if loc == 'Shop':\n",
    "    print('Welcome to shop')\n",
    "elif loc == 'Bank':\n",
    "    print('Welcome to Bank')\n",
    "elif loc == 'Home':\n",
    "    print(\"I'm at Home !!\")\n",
    "else:\n",
    "    print('Which place is this?')"
   ]
  },
  {
   "cell_type": "code",
   "execution_count": null,
   "id": "dece65b2",
   "metadata": {},
   "outputs": [],
   "source": []
  }
 ],
 "metadata": {
  "kernelspec": {
   "display_name": "Python 3 (ipykernel)",
   "language": "python",
   "name": "python3"
  },
  "language_info": {
   "codemirror_mode": {
    "name": "ipython",
    "version": 3
   },
   "file_extension": ".py",
   "mimetype": "text/x-python",
   "name": "python",
   "nbconvert_exporter": "python",
   "pygments_lexer": "ipython3",
   "version": "3.11.5"
  }
 },
 "nbformat": 4,
 "nbformat_minor": 5
}
