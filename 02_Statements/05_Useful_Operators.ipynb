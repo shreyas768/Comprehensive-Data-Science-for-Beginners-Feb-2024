{
 "cells": [
  {
   "cell_type": "markdown",
   "id": "7ded82b1",
   "metadata": {},
   "source": [
    "#### Break and Pass\n",
    "\n",
    "* break: break out of the current closest enclosing loop\n",
    "* pass: does nothing at all\n",
    "* continue: goes to the top of the closest enclosing loop"
   ]
  },
  {
   "cell_type": "code",
   "execution_count": 1,
   "id": "8cf9e961",
   "metadata": {},
   "outputs": [
    {
     "name": "stdout",
     "output_type": "stream",
     "text": [
      "x is currently: 0\n",
      "continuing..\n",
      "x is currently: 1\n",
      "continuing..\n",
      "x is currently: 2\n",
      "x is 3\n",
      "x is currently: 3\n",
      "continuing..\n",
      "x is currently: 4\n",
      "continuing..\n"
     ]
    }
   ],
   "source": [
    "x = 0\n",
    "while x<5:\n",
    "    print('x is currently:',x)\n",
    "    x = x+1\n",
    "    \n",
    "    if x == 3:\n",
    "        print('x is 3')\n",
    "    else:\n",
    "        print('continuing..')\n",
    "        continue"
   ]
  },
  {
   "cell_type": "code",
   "execution_count": 4,
   "id": "2b20f2ba",
   "metadata": {},
   "outputs": [
    {
     "name": "stdout",
     "output_type": "stream",
     "text": [
      "x is currently: 0\n",
      "continuing..\n",
      "x is currently: 1\n",
      "continuing..\n",
      "x is currently: 2\n",
      "breaking because your x is 3\n"
     ]
    }
   ],
   "source": [
    "#put break statement\n",
    "x = 0\n",
    "while x<5:\n",
    "    print('x is currently:',x)\n",
    "    x = x+1\n",
    "    \n",
    "    if x == 3:\n",
    "        print('breaking because your x is 3')\n",
    "        break\n",
    "    else:\n",
    "        print('continuing..')\n",
    "        continue"
   ]
  },
  {
   "cell_type": "markdown",
   "id": "9df01ed8",
   "metadata": {},
   "source": [
    "## range\n",
    "\n",
    "* allows you to quickly generate a list of integers"
   ]
  },
  {
   "cell_type": "code",
   "execution_count": 5,
   "id": "25a4c6ce",
   "metadata": {},
   "outputs": [
    {
     "data": {
      "text/plain": [
       "range(0, 11, 3)"
      ]
     },
     "execution_count": 5,
     "metadata": {},
     "output_type": "execute_result"
    }
   ],
   "source": [
    "range(0,11,3)"
   ]
  },
  {
   "cell_type": "code",
   "execution_count": 6,
   "id": "7228f75c",
   "metadata": {},
   "outputs": [
    {
     "data": {
      "text/plain": [
       "[0, 3, 6, 9]"
      ]
     },
     "execution_count": 6,
     "metadata": {},
     "output_type": "execute_result"
    }
   ],
   "source": [
    "list(range(0,11,3))"
   ]
  },
  {
   "cell_type": "markdown",
   "id": "c636bf60",
   "metadata": {},
   "source": [
    "## enumerate"
   ]
  },
  {
   "cell_type": "code",
   "execution_count": 8,
   "id": "4b0a0a07",
   "metadata": {},
   "outputs": [
    {
     "name": "stdout",
     "output_type": "stream",
     "text": [
      "At index 0 the letter is a\n",
      "At index 1 the letter is b\n",
      "At index 2 the letter is c\n",
      "At index 3 the letter is d\n",
      "At index 4 the letter is e\n"
     ]
    }
   ],
   "source": [
    "count = 0\n",
    "\n",
    "for l in 'abcde':\n",
    "    print('At index {} the letter is {}'.format(count,l))\n",
    "    count = count+1"
   ]
  },
  {
   "cell_type": "code",
   "execution_count": 9,
   "id": "2ebd930e",
   "metadata": {},
   "outputs": [
    {
     "name": "stdout",
     "output_type": "stream",
     "text": [
      "At index 0 the letter is a\n",
      "At index 1 the letter is b\n",
      "At index 2 the letter is c\n",
      "At index 3 the letter is d\n",
      "At index 4 the letter is e\n"
     ]
    }
   ],
   "source": [
    "for count,l in enumerate('abcde'):\n",
    "    print('At index {} the letter is {}'.format(count,l))\n",
    "    "
   ]
  },
  {
   "cell_type": "code",
   "execution_count": 11,
   "id": "84663406",
   "metadata": {},
   "outputs": [
    {
     "data": {
      "text/plain": [
       "[(0, 'a'), (1, 'b'), (2, 'c'), (3, 'd'), (4, 'e')]"
      ]
     },
     "execution_count": 11,
     "metadata": {},
     "output_type": "execute_result"
    }
   ],
   "source": [
    "list(enumerate('abcde'))"
   ]
  },
  {
   "cell_type": "markdown",
   "id": "0d329598",
   "metadata": {},
   "source": [
    "## in operator"
   ]
  },
  {
   "cell_type": "code",
   "execution_count": 19,
   "id": "9cf3bdcc",
   "metadata": {},
   "outputs": [
    {
     "data": {
      "text/plain": [
       "True"
      ]
     },
     "execution_count": 19,
     "metadata": {},
     "output_type": "execute_result"
    }
   ],
   "source": [
    "'II' in ['RBPL','IItr','shreyas',12,98, [1,4,2]][1]"
   ]
  },
  {
   "cell_type": "code",
   "execution_count": 15,
   "id": "5e0403d7",
   "metadata": {},
   "outputs": [
    {
     "data": {
      "text/plain": [
       "True"
      ]
     },
     "execution_count": 15,
     "metadata": {},
     "output_type": "execute_result"
    }
   ],
   "source": [
    "'RBPL' in ['RBPL','IItr','shreyas',12,98, [1,4,2]]"
   ]
  },
  {
   "cell_type": "code",
   "execution_count": 16,
   "id": "5718eb35",
   "metadata": {},
   "outputs": [
    {
     "data": {
      "text/plain": [
       "True"
      ]
     },
     "execution_count": 16,
     "metadata": {},
     "output_type": "execute_result"
    }
   ],
   "source": [
    "[1,4,2] in ['RBPL','IItr','shreyas',12,98, [1,4,2]]"
   ]
  },
  {
   "cell_type": "markdown",
   "id": "ae8aa676",
   "metadata": {},
   "source": [
    "## not in operator"
   ]
  },
  {
   "cell_type": "code",
   "execution_count": 17,
   "id": "1689302b",
   "metadata": {},
   "outputs": [
    {
     "data": {
      "text/plain": [
       "True"
      ]
     },
     "execution_count": 17,
     "metadata": {},
     "output_type": "execute_result"
    }
   ],
   "source": [
    "1 not in ['RBPL','IItr','shreyas',12,98, [1,4,2]]"
   ]
  },
  {
   "cell_type": "markdown",
   "id": "1eeb660f",
   "metadata": {},
   "source": [
    "## min and max"
   ]
  },
  {
   "cell_type": "code",
   "execution_count": 20,
   "id": "364eed9c",
   "metadata": {},
   "outputs": [],
   "source": [
    "lst = [12,43,11,98]"
   ]
  },
  {
   "cell_type": "code",
   "execution_count": 21,
   "id": "cb72d1ac",
   "metadata": {},
   "outputs": [
    {
     "data": {
      "text/plain": [
       "98"
      ]
     },
     "execution_count": 21,
     "metadata": {},
     "output_type": "execute_result"
    }
   ],
   "source": [
    "max(lst)"
   ]
  },
  {
   "cell_type": "code",
   "execution_count": 22,
   "id": "42f1ba6a",
   "metadata": {},
   "outputs": [
    {
     "data": {
      "text/plain": [
       "11"
      ]
     },
     "execution_count": 22,
     "metadata": {},
     "output_type": "execute_result"
    }
   ],
   "source": [
    "min(lst)"
   ]
  },
  {
   "cell_type": "markdown",
   "id": "db5649ca",
   "metadata": {},
   "source": [
    "## input"
   ]
  },
  {
   "cell_type": "code",
   "execution_count": 24,
   "id": "f6c58e62",
   "metadata": {},
   "outputs": [
    {
     "name": "stdout",
     "output_type": "stream",
     "text": [
      "Enter something into this box:32\n"
     ]
    }
   ],
   "source": [
    "x = input('Enter something into this box:')"
   ]
  },
  {
   "cell_type": "code",
   "execution_count": 25,
   "id": "6656ae25",
   "metadata": {},
   "outputs": [
    {
     "data": {
      "text/plain": [
       "'32'"
      ]
     },
     "execution_count": 25,
     "metadata": {},
     "output_type": "execute_result"
    }
   ],
   "source": [
    "x"
   ]
  },
  {
   "cell_type": "code",
   "execution_count": 26,
   "id": "64ecd9d8",
   "metadata": {},
   "outputs": [
    {
     "name": "stdout",
     "output_type": "stream",
     "text": [
      "Enter any number:32\n"
     ]
    }
   ],
   "source": [
    "y = int(input('Enter any number:'))"
   ]
  },
  {
   "cell_type": "code",
   "execution_count": 28,
   "id": "afa58748",
   "metadata": {},
   "outputs": [
    {
     "data": {
      "text/plain": [
       "int"
      ]
     },
     "execution_count": 28,
     "metadata": {},
     "output_type": "execute_result"
    }
   ],
   "source": [
    "type(y)"
   ]
  },
  {
   "cell_type": "code",
   "execution_count": null,
   "id": "96417b1a",
   "metadata": {},
   "outputs": [],
   "source": []
  }
 ],
 "metadata": {
  "kernelspec": {
   "display_name": "Python 3 (ipykernel)",
   "language": "python",
   "name": "python3"
  },
  "language_info": {
   "codemirror_mode": {
    "name": "ipython",
    "version": 3
   },
   "file_extension": ".py",
   "mimetype": "text/x-python",
   "name": "python",
   "nbconvert_exporter": "python",
   "pygments_lexer": "ipython3",
   "version": "3.11.5"
  }
 },
 "nbformat": 4,
 "nbformat_minor": 5
}
