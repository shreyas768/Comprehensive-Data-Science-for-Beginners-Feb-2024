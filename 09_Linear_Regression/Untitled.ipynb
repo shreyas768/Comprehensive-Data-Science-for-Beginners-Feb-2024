{
 "cells": [
  {
   "cell_type": "code",
   "execution_count": 1,
   "id": "39c2c346",
   "metadata": {},
   "outputs": [],
   "source": [
    "from joblib import dump, load\n",
    "loaded_poly = load('poly_conv_degree4.joblib')\n",
    "loaded_model = load('poly_model.joblib')"
   ]
  },
  {
   "cell_type": "code",
   "execution_count": 2,
   "id": "f9c344d3",
   "metadata": {},
   "outputs": [],
   "source": [
    "year_ads = [[149,22,12],[320,123,900],[123,43,23],[121,98,342]]"
   ]
  },
  {
   "cell_type": "code",
   "execution_count": 4,
   "id": "70e672cc",
   "metadata": {},
   "outputs": [],
   "source": [
    "from sklearn.preprocessing import PolynomialFeatures\n",
    "from sklearn.linear_model import LinearRegression"
   ]
  },
  {
   "cell_type": "code",
   "execution_count": 6,
   "id": "7799ae65",
   "metadata": {},
   "outputs": [
    {
     "name": "stderr",
     "output_type": "stream",
     "text": [
      "/Users/shrey/anaconda3/lib/python3.11/site-packages/sklearn/base.py:464: UserWarning: X does not have valid feature names, but PolynomialFeatures was fitted with feature names\n",
      "  warnings.warn(\n"
     ]
    }
   ],
   "source": [
    "year_ads_poly = loaded_poly.transform(year_ads)"
   ]
  },
  {
   "cell_type": "code",
   "execution_count": 8,
   "id": "4459e8e3",
   "metadata": {},
   "outputs": [
    {
     "data": {
      "text/plain": [
       "array([   14.3579557 , -8942.66386024,    17.2079889 ,   199.77031705])"
      ]
     },
     "execution_count": 8,
     "metadata": {},
     "output_type": "execute_result"
    }
   ],
   "source": [
    "loaded_model.predict(year_ads_poly)"
   ]
  },
  {
   "cell_type": "code",
   "execution_count": null,
   "id": "6d744b9b",
   "metadata": {},
   "outputs": [],
   "source": []
  }
 ],
 "metadata": {
  "kernelspec": {
   "display_name": "Python 3 (ipykernel)",
   "language": "python",
   "name": "python3"
  },
  "language_info": {
   "codemirror_mode": {
    "name": "ipython",
    "version": 3
   },
   "file_extension": ".py",
   "mimetype": "text/x-python",
   "name": "python",
   "nbconvert_exporter": "python",
   "pygments_lexer": "ipython3",
   "version": "3.11.5"
  }
 },
 "nbformat": 4,
 "nbformat_minor": 5
}
