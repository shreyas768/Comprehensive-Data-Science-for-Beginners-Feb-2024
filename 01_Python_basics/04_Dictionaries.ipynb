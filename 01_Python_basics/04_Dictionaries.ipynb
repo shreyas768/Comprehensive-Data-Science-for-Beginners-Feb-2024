{
 "cells": [
  {
   "cell_type": "markdown",
   "id": "fdeef0d8",
   "metadata": {},
   "source": [
    "### Constructing a Dictionary"
   ]
  },
  {
   "cell_type": "code",
   "execution_count": 1,
   "id": "8e92766e",
   "metadata": {},
   "outputs": [],
   "source": [
    "dct = {'key1':'value1','key2':32}"
   ]
  },
  {
   "cell_type": "code",
   "execution_count": 2,
   "id": "0ba48c46",
   "metadata": {},
   "outputs": [
    {
     "data": {
      "text/plain": [
       "32"
      ]
     },
     "execution_count": 2,
     "metadata": {},
     "output_type": "execute_result"
    }
   ],
   "source": [
    "dct['key2']"
   ]
  },
  {
   "cell_type": "code",
   "execution_count": 3,
   "id": "9a8aed56",
   "metadata": {},
   "outputs": [
    {
     "data": {
      "text/plain": [
       "'value1'"
      ]
     },
     "execution_count": 3,
     "metadata": {},
     "output_type": "execute_result"
    }
   ],
   "source": [
    "dct['key1']"
   ]
  },
  {
   "cell_type": "code",
   "execution_count": 9,
   "id": "216c711a",
   "metadata": {},
   "outputs": [],
   "source": [
    "dct1 = {'key1':123, 'xyz':[12,98,7653, {'key2': {'abc': [75]}}],'key3':['item0','item1',95]}"
   ]
  },
  {
   "cell_type": "code",
   "execution_count": 10,
   "id": "22800fee",
   "metadata": {},
   "outputs": [
    {
     "name": "stdout",
     "output_type": "stream",
     "text": [
      "ITEM1\n"
     ]
    }
   ],
   "source": [
    "print(dct1['key3'][1].upper())"
   ]
  },
  {
   "cell_type": "code",
   "execution_count": 15,
   "id": "8156b05c",
   "metadata": {},
   "outputs": [
    {
     "data": {
      "text/plain": [
       "75"
      ]
     },
     "execution_count": 15,
     "metadata": {},
     "output_type": "execute_result"
    }
   ],
   "source": []
  },
  {
   "cell_type": "code",
   "execution_count": 16,
   "id": "3b5096b0",
   "metadata": {},
   "outputs": [
    {
     "data": {
      "text/plain": [
       "1.871398875625559"
      ]
     },
     "execution_count": 16,
     "metadata": {},
     "output_type": "execute_result"
    }
   ],
   "source": [
    "((dct1['key1']*dct1['xyz'][-1]['key2']['abc'][0])/len(dct1['key3'][0]))**(1/dct1['xyz'][0])"
   ]
  },
  {
   "cell_type": "code",
   "execution_count": 17,
   "id": "225fdc1c",
   "metadata": {},
   "outputs": [],
   "source": [
    "d = {}"
   ]
  },
  {
   "cell_type": "code",
   "execution_count": 19,
   "id": "98b13eb9",
   "metadata": {},
   "outputs": [
    {
     "data": {
      "text/plain": [
       "dict"
      ]
     },
     "execution_count": 19,
     "metadata": {},
     "output_type": "execute_result"
    }
   ],
   "source": [
    "type(d)"
   ]
  },
  {
   "cell_type": "code",
   "execution_count": 20,
   "id": "fb1c79b2",
   "metadata": {},
   "outputs": [],
   "source": [
    "#Create a new key\n",
    "d['animal'] = ['dog','cat']"
   ]
  },
  {
   "cell_type": "code",
   "execution_count": 21,
   "id": "5964de4e",
   "metadata": {},
   "outputs": [
    {
     "data": {
      "text/plain": [
       "{'animal': ['dog', 'cat']}"
      ]
     },
     "execution_count": 21,
     "metadata": {},
     "output_type": "execute_result"
    }
   ],
   "source": [
    "d"
   ]
  },
  {
   "cell_type": "code",
   "execution_count": 22,
   "id": "5a0536b7",
   "metadata": {},
   "outputs": [],
   "source": [
    "d['number'] = 34.98"
   ]
  },
  {
   "cell_type": "code",
   "execution_count": 23,
   "id": "f9358c49",
   "metadata": {},
   "outputs": [
    {
     "data": {
      "text/plain": [
       "{'animal': ['dog', 'cat'], 'number': 34.98}"
      ]
     },
     "execution_count": 23,
     "metadata": {},
     "output_type": "execute_result"
    }
   ],
   "source": [
    "d"
   ]
  },
  {
   "cell_type": "code",
   "execution_count": 24,
   "id": "c0e6ff98",
   "metadata": {},
   "outputs": [],
   "source": [
    "d['dict12'] = {}"
   ]
  },
  {
   "cell_type": "code",
   "execution_count": 25,
   "id": "3503673d",
   "metadata": {},
   "outputs": [
    {
     "data": {
      "text/plain": [
       "{'animal': ['dog', 'cat'], 'number': 34.98, 'dict12': {}}"
      ]
     },
     "execution_count": 25,
     "metadata": {},
     "output_type": "execute_result"
    }
   ],
   "source": [
    "d"
   ]
  },
  {
   "cell_type": "code",
   "execution_count": 27,
   "id": "4beae27b",
   "metadata": {},
   "outputs": [],
   "source": [
    "d['dict12']['name'] = 'Shreyas'"
   ]
  },
  {
   "cell_type": "code",
   "execution_count": 34,
   "id": "1d8d6595",
   "metadata": {},
   "outputs": [
    {
     "data": {
      "text/plain": [
       "{'animal': ['dog', 'cat'], 'number': 34.98, 'dict12': {'name': 'Shreyas'}}"
      ]
     },
     "execution_count": 34,
     "metadata": {},
     "output_type": "execute_result"
    }
   ],
   "source": [
    "d"
   ]
  },
  {
   "cell_type": "markdown",
   "id": "555b9424",
   "metadata": {},
   "source": [
    "## Dictionary Methods"
   ]
  },
  {
   "cell_type": "code",
   "execution_count": 29,
   "id": "f510a233",
   "metadata": {},
   "outputs": [
    {
     "data": {
      "text/plain": [
       "dict_keys(['animal', 'number', 'dict12'])"
      ]
     },
     "execution_count": 29,
     "metadata": {},
     "output_type": "execute_result"
    }
   ],
   "source": [
    "d.keys()"
   ]
  },
  {
   "cell_type": "code",
   "execution_count": 30,
   "id": "e3f98192",
   "metadata": {},
   "outputs": [
    {
     "data": {
      "text/plain": [
       "dict_values([['dog', 'cat'], 34.98, {'name': 'Shreyas'}])"
      ]
     },
     "execution_count": 30,
     "metadata": {},
     "output_type": "execute_result"
    }
   ],
   "source": [
    "d.values()"
   ]
  },
  {
   "cell_type": "code",
   "execution_count": 32,
   "id": "0aa4d3a0",
   "metadata": {},
   "outputs": [
    {
     "data": {
      "text/plain": [
       "dict_keys(['name'])"
      ]
     },
     "execution_count": 32,
     "metadata": {},
     "output_type": "execute_result"
    }
   ],
   "source": [
    "d['dict12'].keys()"
   ]
  },
  {
   "cell_type": "code",
   "execution_count": 33,
   "id": "060d46e0",
   "metadata": {},
   "outputs": [
    {
     "data": {
      "text/plain": [
       "dict_items([('animal', ['dog', 'cat']), ('number', 34.98), ('dict12', {'name': 'Shreyas'})])"
      ]
     },
     "execution_count": 33,
     "metadata": {},
     "output_type": "execute_result"
    }
   ],
   "source": [
    "d.items()"
   ]
  },
  {
   "cell_type": "code",
   "execution_count": null,
   "id": "8a4b9a22",
   "metadata": {},
   "outputs": [],
   "source": []
  }
 ],
 "metadata": {
  "kernelspec": {
   "display_name": "Python 3 (ipykernel)",
   "language": "python",
   "name": "python3"
  },
  "language_info": {
   "codemirror_mode": {
    "name": "ipython",
    "version": 3
   },
   "file_extension": ".py",
   "mimetype": "text/x-python",
   "name": "python",
   "nbconvert_exporter": "python",
   "pygments_lexer": "ipython3",
   "version": "3.11.5"
  }
 },
 "nbformat": 4,
 "nbformat_minor": 5
}
