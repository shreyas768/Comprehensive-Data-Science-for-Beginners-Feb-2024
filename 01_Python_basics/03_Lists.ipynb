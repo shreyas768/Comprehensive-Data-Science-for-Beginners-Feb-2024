{
 "cells": [
  {
   "cell_type": "code",
   "execution_count": 6,
   "id": "8007c3d2-ca3b-4555-8185-8ec42a159597",
   "metadata": {},
   "outputs": [
    {
     "name": "stdout",
     "output_type": "stream",
     "text": [
      "21\n"
     ]
    }
   ],
   "source": [
    "import pandas as pd\n",
    "data = {'A': [1, 2, 3], 'B': [4, 5, 6]}\n",
    "\n",
    "df = pd.DataFrame(data)\n",
    "\n",
    "df['C'] = df.apply(lambda x: x['A'] + x['B'], axis=1)\n",
    "\n",
    "print(df['C'].sum())"
   ]
  },
  {
   "cell_type": "markdown",
   "id": "1a542690",
   "metadata": {},
   "source": [
    "### Creating a List"
   ]
  },
  {
   "cell_type": "code",
   "execution_count": 1,
   "id": "8c223510",
   "metadata": {},
   "outputs": [
    {
     "data": {
      "text/plain": [
       "list"
      ]
     },
     "execution_count": 1,
     "metadata": {},
     "output_type": "execute_result"
    }
   ],
   "source": [
    "x = [1,'hello',4.5]\n",
    "type(x)"
   ]
  },
  {
   "cell_type": "code",
   "execution_count": 2,
   "id": "590fdf29",
   "metadata": {},
   "outputs": [
    {
     "data": {
      "text/plain": [
       "3"
      ]
     },
     "execution_count": 2,
     "metadata": {},
     "output_type": "execute_result"
    }
   ],
   "source": [
    "len(x)"
   ]
  },
  {
   "cell_type": "markdown",
   "id": "9dbc7d2d",
   "metadata": {},
   "source": [
    "### Indexing and Slicing"
   ]
  },
  {
   "cell_type": "code",
   "execution_count": 3,
   "id": "35b92673",
   "metadata": {},
   "outputs": [],
   "source": [
    "lst = ['one','two',4.6,99, 'hello','rbpl', 8,2,2024]"
   ]
  },
  {
   "cell_type": "code",
   "execution_count": 4,
   "id": "6e3ccd4b",
   "metadata": {},
   "outputs": [
    {
     "data": {
      "text/plain": [
       "'one'"
      ]
     },
     "execution_count": 4,
     "metadata": {},
     "output_type": "execute_result"
    }
   ],
   "source": [
    "lst[0]"
   ]
  },
  {
   "cell_type": "code",
   "execution_count": 5,
   "id": "4ebd82db",
   "metadata": {},
   "outputs": [
    {
     "data": {
      "text/plain": [
       "['two', 4.6, 99, 'hello', 'rbpl', 8, 2, 2024]"
      ]
     },
     "execution_count": 5,
     "metadata": {},
     "output_type": "execute_result"
    }
   ],
   "source": [
    "lst[1:]"
   ]
  },
  {
   "cell_type": "code",
   "execution_count": 6,
   "id": "f861c1bf",
   "metadata": {},
   "outputs": [
    {
     "data": {
      "text/plain": [
       "['two', 4.6]"
      ]
     },
     "execution_count": 6,
     "metadata": {},
     "output_type": "execute_result"
    }
   ],
   "source": [
    "lst[1:3]"
   ]
  },
  {
   "cell_type": "code",
   "execution_count": 7,
   "id": "32a256e8",
   "metadata": {},
   "outputs": [
    {
     "data": {
      "text/plain": [
       "253.0"
      ]
     },
     "execution_count": 7,
     "metadata": {},
     "output_type": "execute_result"
    }
   ],
   "source": [
    "lst[-1]/lst[6]"
   ]
  },
  {
   "cell_type": "code",
   "execution_count": 8,
   "id": "eaba37f9",
   "metadata": {},
   "outputs": [
    {
     "data": {
      "text/plain": [
       "['one', 'two', 4.6, 99, 'hello', 'rbpl', 8, 2, 2024, 'item1', 'item2']"
      ]
     },
     "execution_count": 8,
     "metadata": {},
     "output_type": "execute_result"
    }
   ],
   "source": [
    "#concatenate\n",
    "lst + ['item1','item2']"
   ]
  },
  {
   "cell_type": "code",
   "execution_count": 9,
   "id": "c7305336",
   "metadata": {},
   "outputs": [
    {
     "data": {
      "text/plain": [
       "['one', 'two', 4.6, 99, 'hello', 'rbpl', 8, 2, 2024]"
      ]
     },
     "execution_count": 9,
     "metadata": {},
     "output_type": "execute_result"
    }
   ],
   "source": [
    "lst"
   ]
  },
  {
   "cell_type": "code",
   "execution_count": 10,
   "id": "447c9e72",
   "metadata": {},
   "outputs": [],
   "source": [
    "lst1 = [3,65,23]\n",
    "lst = lst+lst1"
   ]
  },
  {
   "cell_type": "code",
   "execution_count": 11,
   "id": "42f9d947",
   "metadata": {},
   "outputs": [
    {
     "data": {
      "text/plain": [
       "['one', 'two', 4.6, 99, 'hello', 'rbpl', 8, 2, 2024, 3, 65, 23]"
      ]
     },
     "execution_count": 11,
     "metadata": {},
     "output_type": "execute_result"
    }
   ],
   "source": [
    "lst #permanent change in lst"
   ]
  },
  {
   "cell_type": "code",
   "execution_count": 12,
   "id": "83942048",
   "metadata": {},
   "outputs": [
    {
     "data": {
      "text/plain": [
       "['one',\n",
       " 'two',\n",
       " 4.6,\n",
       " 99,\n",
       " 'hello',\n",
       " 'rbpl',\n",
       " 8,\n",
       " 2,\n",
       " 2024,\n",
       " 3,\n",
       " 65,\n",
       " 23,\n",
       " 'one',\n",
       " 'two',\n",
       " 4.6,\n",
       " 99,\n",
       " 'hello',\n",
       " 'rbpl',\n",
       " 8,\n",
       " 2,\n",
       " 2024,\n",
       " 3,\n",
       " 65,\n",
       " 23]"
      ]
     },
     "execution_count": 12,
     "metadata": {},
     "output_type": "execute_result"
    }
   ],
   "source": [
    "lst*2"
   ]
  },
  {
   "cell_type": "code",
   "execution_count": 14,
   "id": "16d725f5",
   "metadata": {},
   "outputs": [],
   "source": [
    "#Assignment\n",
    "\n",
    "assgn1 = [66,'Shreyas','IItr',45.9,23.7]\n",
    "#1. Do a sum of 66 and 23.7\n",
    "#2. divide by 45.9 \n",
    "#3multiply it by length of 'Shreyas'\n",
    "#4 take power of 1/lengthof'IITr'\n",
    "\n",
    "#Condition1: Do it in 1 line of code. At the worst, two lines.\n",
    "#Condition2: You cannot use elements in the list directly in your code"
   ]
  },
  {
   "cell_type": "code",
   "execution_count": 18,
   "id": "245ad14c",
   "metadata": {},
   "outputs": [
    {
     "data": {
      "text/plain": [
       "1.9231778542961082"
      ]
     },
     "execution_count": 18,
     "metadata": {},
     "output_type": "execute_result"
    }
   ],
   "source": [
    "(((assgn1[0]+assgn1[-1])/(assgn1[-2]))*len(assgn1[1]))**(1/(len(assgn1[2])))"
   ]
  },
  {
   "cell_type": "markdown",
   "id": "c9005268",
   "metadata": {},
   "source": [
    "## Basic Line Methods"
   ]
  },
  {
   "cell_type": "code",
   "execution_count": 19,
   "id": "58b2218d",
   "metadata": {},
   "outputs": [],
   "source": [
    "#lists have no fixed size\n",
    "#lists have no fixed type constraint\n"
   ]
  },
  {
   "cell_type": "code",
   "execution_count": 29,
   "id": "c56f50c5",
   "metadata": {},
   "outputs": [],
   "source": [
    "lst1 = [1,2,3]"
   ]
  },
  {
   "cell_type": "code",
   "execution_count": 30,
   "id": "fd0d8d61",
   "metadata": {},
   "outputs": [],
   "source": [
    "#append method adds an item to the end of a list permanently\n",
    "lst1.append('this is added element')"
   ]
  },
  {
   "cell_type": "code",
   "execution_count": 31,
   "id": "a8922906",
   "metadata": {},
   "outputs": [
    {
     "data": {
      "text/plain": [
       "[1, 2, 3, 'this is added element']"
      ]
     },
     "execution_count": 31,
     "metadata": {},
     "output_type": "execute_result"
    }
   ],
   "source": [
    "lst1"
   ]
  },
  {
   "cell_type": "code",
   "execution_count": 32,
   "id": "d495a2ae",
   "metadata": {},
   "outputs": [],
   "source": [
    "#pop method\n",
    "x = lst1.pop()"
   ]
  },
  {
   "cell_type": "code",
   "execution_count": 33,
   "id": "29f300f5",
   "metadata": {},
   "outputs": [
    {
     "data": {
      "text/plain": [
       "'this is added element'"
      ]
     },
     "execution_count": 33,
     "metadata": {},
     "output_type": "execute_result"
    }
   ],
   "source": [
    "x"
   ]
  },
  {
   "cell_type": "code",
   "execution_count": 34,
   "id": "f21c548a",
   "metadata": {},
   "outputs": [
    {
     "data": {
      "text/plain": [
       "[1, 2, 3]"
      ]
     },
     "execution_count": 34,
     "metadata": {},
     "output_type": "execute_result"
    }
   ],
   "source": [
    "lst1"
   ]
  },
  {
   "cell_type": "code",
   "execution_count": 35,
   "id": "0fc2ab15",
   "metadata": {},
   "outputs": [
    {
     "ename": "IndexError",
     "evalue": "list index out of range",
     "output_type": "error",
     "traceback": [
      "\u001b[0;31m---------------------------------------------------------------------------\u001b[0m",
      "\u001b[0;31mIndexError\u001b[0m                                Traceback (most recent call last)",
      "Cell \u001b[0;32mIn[35], line 1\u001b[0m\n\u001b[0;32m----> 1\u001b[0m lst1[\u001b[38;5;241m10\u001b[39m]\n",
      "\u001b[0;31mIndexError\u001b[0m: list index out of range"
     ]
    }
   ],
   "source": [
    "lst1[10]"
   ]
  },
  {
   "cell_type": "code",
   "execution_count": 42,
   "id": "ad881749",
   "metadata": {},
   "outputs": [],
   "source": [
    "#reverse\n",
    "lst2 = ['a','e','x','d','g']\n",
    "lst2.reverse()"
   ]
  },
  {
   "cell_type": "code",
   "execution_count": 43,
   "id": "04ebfb87",
   "metadata": {},
   "outputs": [
    {
     "data": {
      "text/plain": [
       "['g', 'd', 'x', 'e', 'a']"
      ]
     },
     "execution_count": 43,
     "metadata": {},
     "output_type": "execute_result"
    }
   ],
   "source": [
    "lst2  #change is permanent"
   ]
  },
  {
   "cell_type": "code",
   "execution_count": 44,
   "id": "a40f438a",
   "metadata": {},
   "outputs": [],
   "source": [
    "y = lst2.sort()"
   ]
  },
  {
   "cell_type": "code",
   "execution_count": 45,
   "id": "b1728878",
   "metadata": {},
   "outputs": [],
   "source": [
    "y"
   ]
  },
  {
   "cell_type": "code",
   "execution_count": 46,
   "id": "cd38389b",
   "metadata": {},
   "outputs": [
    {
     "data": {
      "text/plain": [
       "NoneType"
      ]
     },
     "execution_count": 46,
     "metadata": {},
     "output_type": "execute_result"
    }
   ],
   "source": [
    "type(y)"
   ]
  },
  {
   "cell_type": "code",
   "execution_count": 47,
   "id": "9d399eb5",
   "metadata": {},
   "outputs": [
    {
     "data": {
      "text/plain": [
       "['a', 'd', 'e', 'g', 'x']"
      ]
     },
     "execution_count": 47,
     "metadata": {},
     "output_type": "execute_result"
    }
   ],
   "source": [
    "lst2"
   ]
  },
  {
   "cell_type": "code",
   "execution_count": 48,
   "id": "a1856b04",
   "metadata": {},
   "outputs": [
    {
     "data": {
      "text/plain": [
       "'x'"
      ]
     },
     "execution_count": 48,
     "metadata": {},
     "output_type": "execute_result"
    }
   ],
   "source": [
    "lst2.pop()"
   ]
  },
  {
   "cell_type": "markdown",
   "id": "e5d7141d",
   "metadata": {},
   "source": [
    "## Nested Lists\n",
    "\n"
   ]
  },
  {
   "cell_type": "code",
   "execution_count": 54,
   "id": "8073e4e1",
   "metadata": {},
   "outputs": [],
   "source": [
    "lst1 = [1,2,3]\n",
    "lst2 = [4,5,6]\n",
    "lst3 = [7,8,9]"
   ]
  },
  {
   "cell_type": "code",
   "execution_count": 55,
   "id": "755f533d",
   "metadata": {},
   "outputs": [],
   "source": [
    "mat = [lst1,lst2,lst3]"
   ]
  },
  {
   "cell_type": "code",
   "execution_count": 56,
   "id": "0e11be65",
   "metadata": {},
   "outputs": [
    {
     "data": {
      "text/plain": [
       "[[1, 2, 3], [4, 5, 6], [7, 8, 9]]"
      ]
     },
     "execution_count": 56,
     "metadata": {},
     "output_type": "execute_result"
    }
   ],
   "source": [
    "mat"
   ]
  },
  {
   "cell_type": "code",
   "execution_count": 58,
   "id": "97d9dcb3",
   "metadata": {},
   "outputs": [
    {
     "data": {
      "text/plain": [
       "5"
      ]
     },
     "execution_count": 58,
     "metadata": {},
     "output_type": "execute_result"
    }
   ],
   "source": [
    "mat[1][1]"
   ]
  },
  {
   "cell_type": "code",
   "execution_count": 60,
   "id": "a5f6f8cb",
   "metadata": {},
   "outputs": [
    {
     "data": {
      "text/plain": [
       "7"
      ]
     },
     "execution_count": 60,
     "metadata": {},
     "output_type": "execute_result"
    }
   ],
   "source": [
    "mat[2][0]"
   ]
  },
  {
   "cell_type": "code",
   "execution_count": 61,
   "id": "c225c0a7",
   "metadata": {},
   "outputs": [],
   "source": [
    "mat1 = [['Hello',4.7,[9,'Thank You']],['bdkajsbdsjk',4.1,'Shreyas',['I am doing great'], ['How are you?'], 87]]"
   ]
  },
  {
   "cell_type": "code",
   "execution_count": 67,
   "id": "f20f9422",
   "metadata": {},
   "outputs": [
    {
     "name": "stdout",
     "output_type": "stream",
     "text": [
      "Hello Shreyas !! I am doing great. Thank You. How are you?\n"
     ]
    }
   ],
   "source": [
    "print('Hello Shreyas !! I am doing great. Thank You. How are you?')"
   ]
  },
  {
   "cell_type": "code",
   "execution_count": 79,
   "id": "4d193077",
   "metadata": {},
   "outputs": [
    {
     "name": "stdout",
     "output_type": "stream",
     "text": [
      "Hello Shreyas !! I am great. Thank You. How are you?\n"
     ]
    }
   ],
   "source": [
    "print(mat1[0][0] + ' ' + mat1[1][2] + ' !! ' + mat1[1][-3][0] + '. ' +mat1[0][-1][-1] +'. ' + mat1[-1][-2][0])"
   ]
  },
  {
   "cell_type": "code",
   "execution_count": null,
   "id": "cd3741eb",
   "metadata": {},
   "outputs": [],
   "source": []
  }
 ],
 "metadata": {
  "kernelspec": {
   "display_name": "Python 3 (ipykernel)",
   "language": "python",
   "name": "python3"
  },
  "language_info": {
   "codemirror_mode": {
    "name": "ipython",
    "version": 3
   },
   "file_extension": ".py",
   "mimetype": "text/x-python",
   "name": "python",
   "nbconvert_exporter": "python",
   "pygments_lexer": "ipython3",
   "version": "3.11.5"
  }
 },
 "nbformat": 4,
 "nbformat_minor": 5
}
