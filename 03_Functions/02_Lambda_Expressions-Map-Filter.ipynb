{
 "cells": [
  {
   "cell_type": "code",
   "execution_count": 1,
   "id": "b3c45b5a",
   "metadata": {},
   "outputs": [],
   "source": [
    "#Map function is used to 'map' a function to an iterable object\n",
    "\n",
    "def square(num):\n",
    "    return num**2"
   ]
  },
  {
   "cell_type": "code",
   "execution_count": 2,
   "id": "9cc259e6",
   "metadata": {},
   "outputs": [],
   "source": [
    "lst = [1,2,3,4,5]"
   ]
  },
  {
   "cell_type": "code",
   "execution_count": 3,
   "id": "f3cf54fb",
   "metadata": {},
   "outputs": [
    {
     "data": {
      "text/plain": [
       "<map at 0x1058fd6c0>"
      ]
     },
     "execution_count": 3,
     "metadata": {},
     "output_type": "execute_result"
    }
   ],
   "source": [
    "map(square,lst)"
   ]
  },
  {
   "cell_type": "code",
   "execution_count": 4,
   "id": "af6ee74d",
   "metadata": {},
   "outputs": [
    {
     "data": {
      "text/plain": [
       "[1, 4, 9, 16, 25]"
      ]
     },
     "execution_count": 4,
     "metadata": {},
     "output_type": "execute_result"
    }
   ],
   "source": [
    "list(map(square,lst))"
   ]
  },
  {
   "cell_type": "code",
   "execution_count": 9,
   "id": "b44df183",
   "metadata": {},
   "outputs": [],
   "source": [
    "def check_even(n1):\n",
    "    if n1%2 == 0:\n",
    "        return n1\n",
    "    else:\n",
    "        return 'odd number'"
   ]
  },
  {
   "cell_type": "code",
   "execution_count": 10,
   "id": "1903f2e4",
   "metadata": {},
   "outputs": [
    {
     "data": {
      "text/plain": [
       "['odd number', 2, 'odd number', 4, 'odd number']"
      ]
     },
     "execution_count": 10,
     "metadata": {},
     "output_type": "execute_result"
    }
   ],
   "source": [
    "list(map(check_even,lst))"
   ]
  },
  {
   "cell_type": "code",
   "execution_count": 11,
   "id": "df1ade32",
   "metadata": {},
   "outputs": [],
   "source": [
    "def check_len(st):\n",
    "    if len(st)%2 ==0:\n",
    "        return 'string is of even length'\n",
    "    else:\n",
    "        return st[-1]"
   ]
  },
  {
   "cell_type": "code",
   "execution_count": 12,
   "id": "b40f45b0",
   "metadata": {},
   "outputs": [],
   "source": [
    "names = ['Seth','Kelly','Mike','Linda']"
   ]
  },
  {
   "cell_type": "code",
   "execution_count": 13,
   "id": "92fa728f",
   "metadata": {},
   "outputs": [
    {
     "data": {
      "text/plain": [
       "['string is of even length', 'y', 'string is of even length', 'a']"
      ]
     },
     "execution_count": 13,
     "metadata": {},
     "output_type": "execute_result"
    }
   ],
   "source": [
    "list(map(check_len,names))"
   ]
  },
  {
   "cell_type": "code",
   "execution_count": 27,
   "id": "8476ad00",
   "metadata": {},
   "outputs": [],
   "source": [
    "#filter function returns an iterator yielding those items of iterable for which function(item) is true. \n",
    "#function has to return boolean value\n",
    "\n",
    "def check_even(n1):\n",
    "    return n1%2 == 0"
   ]
  },
  {
   "cell_type": "code",
   "execution_count": 15,
   "id": "ab073e45",
   "metadata": {},
   "outputs": [
    {
     "data": {
      "text/plain": [
       "<filter at 0x10511f670>"
      ]
     },
     "execution_count": 15,
     "metadata": {},
     "output_type": "execute_result"
    }
   ],
   "source": [
    "filter(check_even,lst)"
   ]
  },
  {
   "cell_type": "code",
   "execution_count": 16,
   "id": "db31cf09",
   "metadata": {},
   "outputs": [
    {
     "data": {
      "text/plain": [
       "[2, 4]"
      ]
     },
     "execution_count": 16,
     "metadata": {},
     "output_type": "execute_result"
    }
   ],
   "source": [
    "list(filter(check_even,lst))"
   ]
  },
  {
   "cell_type": "markdown",
   "id": "451f739a",
   "metadata": {},
   "source": [
    "## Lambda Expressions\n",
    "\n",
    "allows to create ad-hoc functions without needing to properly define a function using def"
   ]
  },
  {
   "cell_type": "code",
   "execution_count": 17,
   "id": "d943f05e",
   "metadata": {},
   "outputs": [],
   "source": [
    "def square(num):\n",
    "    result = num**2\n",
    "    return result"
   ]
  },
  {
   "cell_type": "code",
   "execution_count": 18,
   "id": "b6daee32",
   "metadata": {},
   "outputs": [
    {
     "data": {
      "text/plain": [
       "4"
      ]
     },
     "execution_count": 18,
     "metadata": {},
     "output_type": "execute_result"
    }
   ],
   "source": [
    "square(2)"
   ]
  },
  {
   "cell_type": "code",
   "execution_count": 19,
   "id": "487855dd",
   "metadata": {},
   "outputs": [],
   "source": [
    "def square(num):\n",
    "    return num**2"
   ]
  },
  {
   "cell_type": "code",
   "execution_count": 20,
   "id": "79db93dd",
   "metadata": {},
   "outputs": [],
   "source": [
    "def square(num): return num**2"
   ]
  },
  {
   "cell_type": "code",
   "execution_count": 21,
   "id": "e6fc2760",
   "metadata": {},
   "outputs": [
    {
     "data": {
      "text/plain": [
       "4"
      ]
     },
     "execution_count": 21,
     "metadata": {},
     "output_type": "execute_result"
    }
   ],
   "source": [
    "square(2)"
   ]
  },
  {
   "cell_type": "code",
   "execution_count": 22,
   "id": "b10c5edf",
   "metadata": {},
   "outputs": [],
   "source": [
    "#this form is what lambda expression is trying to replicate"
   ]
  },
  {
   "cell_type": "code",
   "execution_count": 23,
   "id": "307c4f71",
   "metadata": {},
   "outputs": [],
   "source": [
    "square = lambda num : num**0.5"
   ]
  },
  {
   "cell_type": "code",
   "execution_count": 24,
   "id": "8d8ad402",
   "metadata": {},
   "outputs": [
    {
     "data": {
      "text/plain": [
       "1.7320508075688772"
      ]
     },
     "execution_count": 24,
     "metadata": {},
     "output_type": "execute_result"
    }
   ],
   "source": [
    "square(3)"
   ]
  },
  {
   "cell_type": "code",
   "execution_count": 25,
   "id": "6d72e78e",
   "metadata": {},
   "outputs": [
    {
     "data": {
      "text/plain": [
       "[1.0, 1.4142135623730951, 1.7320508075688772, 2.0, 2.23606797749979]"
      ]
     },
     "execution_count": 25,
     "metadata": {},
     "output_type": "execute_result"
    }
   ],
   "source": [
    "list(map(lambda num : num**0.5, [1,2,3,4,5]))"
   ]
  },
  {
   "cell_type": "code",
   "execution_count": 26,
   "id": "70f6c026",
   "metadata": {},
   "outputs": [
    {
     "data": {
      "text/plain": [
       "[1.0, 1.4142135623730951, 1.7320508075688772, 2.0, 2.23606797749979]"
      ]
     },
     "execution_count": 26,
     "metadata": {},
     "output_type": "execute_result"
    }
   ],
   "source": [
    "list(map(square,lst))"
   ]
  },
  {
   "cell_type": "code",
   "execution_count": 28,
   "id": "f175ec2d",
   "metadata": {},
   "outputs": [
    {
     "data": {
      "text/plain": [
       "[11, 33, 23, 101]"
      ]
     },
     "execution_count": 28,
     "metadata": {},
     "output_type": "execute_result"
    }
   ],
   "source": [
    "list(filter(lambda n:n%2 == 1, [12,11,76,33,23,22,98,101]))"
   ]
  },
  {
   "cell_type": "code",
   "execution_count": 29,
   "id": "83d416f7",
   "metadata": {},
   "outputs": [],
   "source": [
    "#use lambda, map, filter, or a combination of them and return list with first character of each string\n",
    "s = ['Shreyas','RBPL','IITr','DivyaSampark']"
   ]
  },
  {
   "cell_type": "code",
   "execution_count": 31,
   "id": "2dc5fd06",
   "metadata": {},
   "outputs": [
    {
     "data": {
      "text/plain": [
       "['sayerhS', 'LPBR', 'rTII', 'krapmaSayviD']"
      ]
     },
     "execution_count": 31,
     "metadata": {},
     "output_type": "execute_result"
    }
   ],
   "source": [
    "list(map(lambda val: val[::-1],s))"
   ]
  },
  {
   "cell_type": "code",
   "execution_count": 32,
   "id": "ba3c6205",
   "metadata": {},
   "outputs": [
    {
     "data": {
      "text/plain": [
       "[3, 4, 5]"
      ]
     },
     "execution_count": 32,
     "metadata": {},
     "output_type": "execute_result"
    }
   ],
   "source": [
    "list(filter(lambda x:x>=3,lst))"
   ]
  },
  {
   "cell_type": "code",
   "execution_count": null,
   "id": "d42a8c01",
   "metadata": {},
   "outputs": [],
   "source": []
  }
 ],
 "metadata": {
  "kernelspec": {
   "display_name": "Python 3 (ipykernel)",
   "language": "python",
   "name": "python3"
  },
  "language_info": {
   "codemirror_mode": {
    "name": "ipython",
    "version": 3
   },
   "file_extension": ".py",
   "mimetype": "text/x-python",
   "name": "python",
   "nbconvert_exporter": "python",
   "pygments_lexer": "ipython3",
   "version": "3.11.5"
  }
 },
 "nbformat": 4,
 "nbformat_minor": 5
}
