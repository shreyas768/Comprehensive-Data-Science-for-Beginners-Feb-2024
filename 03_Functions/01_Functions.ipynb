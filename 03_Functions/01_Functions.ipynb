{
 "cells": [
  {
   "cell_type": "markdown",
   "id": "a4289af6",
   "metadata": {},
   "source": [
    "# def "
   ]
  },
  {
   "cell_type": "code",
   "execution_count": 1,
   "id": "b8b9a909",
   "metadata": {},
   "outputs": [],
   "source": [
    "def num_of_function(arg1,arg2):\n",
    "    '''\n",
    "    This is docstring. When you call help() this will be printed out\n",
    "    '''\n",
    "    #Do code here\n",
    "    #return the desired result"
   ]
  },
  {
   "cell_type": "code",
   "execution_count": 2,
   "id": "652f7fab",
   "metadata": {},
   "outputs": [],
   "source": [
    "def say_hi():\n",
    "    print('hi')"
   ]
  },
  {
   "cell_type": "code",
   "execution_count": 3,
   "id": "61459fc4",
   "metadata": {},
   "outputs": [
    {
     "name": "stdout",
     "output_type": "stream",
     "text": [
      "hi\n"
     ]
    }
   ],
   "source": [
    "say_hi()"
   ]
  },
  {
   "cell_type": "code",
   "execution_count": 4,
   "id": "2176cb7c",
   "metadata": {},
   "outputs": [
    {
     "data": {
      "text/plain": [
       "<function __main__.say_hi()>"
      ]
     },
     "execution_count": 4,
     "metadata": {},
     "output_type": "execute_result"
    }
   ],
   "source": [
    "say_hi"
   ]
  },
  {
   "cell_type": "code",
   "execution_count": 5,
   "id": "bc0ddd58",
   "metadata": {},
   "outputs": [],
   "source": [
    "def greet(name):\n",
    "    print(f'Hello {name}')"
   ]
  },
  {
   "cell_type": "code",
   "execution_count": 6,
   "id": "4b8d426c",
   "metadata": {},
   "outputs": [
    {
     "name": "stdout",
     "output_type": "stream",
     "text": [
      "Hello Poonam\n"
     ]
    }
   ],
   "source": [
    "greet('Poonam')"
   ]
  },
  {
   "cell_type": "code",
   "execution_count": 8,
   "id": "9d51699a",
   "metadata": {},
   "outputs": [],
   "source": [
    "def greet(name1, name2):\n",
    "    'this is a docstring'\n",
    "    print(f'Hello {name1} and hi {name2}')"
   ]
  },
  {
   "cell_type": "code",
   "execution_count": 9,
   "id": "a73528d9",
   "metadata": {},
   "outputs": [
    {
     "name": "stdout",
     "output_type": "stream",
     "text": [
      "Hello Poonam and hi Paramita\n"
     ]
    }
   ],
   "source": [
    "greet('Poonam','Paramita')"
   ]
  },
  {
   "cell_type": "code",
   "execution_count": 16,
   "id": "07769bfe",
   "metadata": {},
   "outputs": [],
   "source": [
    "def add_numbers(num1,num2):\n",
    "    print(num1+num2)"
   ]
  },
  {
   "cell_type": "code",
   "execution_count": 17,
   "id": "1003d317",
   "metadata": {},
   "outputs": [
    {
     "name": "stdout",
     "output_type": "stream",
     "text": [
      "23\n"
     ]
    }
   ],
   "source": [
    "num = add_numbers(12,11)"
   ]
  },
  {
   "cell_type": "code",
   "execution_count": 18,
   "id": "008eb944",
   "metadata": {},
   "outputs": [
    {
     "data": {
      "text/plain": [
       "NoneType"
      ]
     },
     "execution_count": 18,
     "metadata": {},
     "output_type": "execute_result"
    }
   ],
   "source": [
    "type(num)"
   ]
  },
  {
   "cell_type": "code",
   "execution_count": 15,
   "id": "0c414fc3",
   "metadata": {},
   "outputs": [],
   "source": [
    "def add_numbers1(num1,num2):\n",
    "    return num1+num2"
   ]
  },
  {
   "cell_type": "code",
   "execution_count": 25,
   "id": "2dc3bb2c",
   "metadata": {},
   "outputs": [],
   "source": [
    "num1 = add_numbers1(12,11)"
   ]
  },
  {
   "cell_type": "code",
   "execution_count": 26,
   "id": "87366ac9",
   "metadata": {},
   "outputs": [
    {
     "data": {
      "text/plain": [
       "int"
      ]
     },
     "execution_count": 26,
     "metadata": {},
     "output_type": "execute_result"
    }
   ],
   "source": [
    "type(num1)"
   ]
  },
  {
   "cell_type": "code",
   "execution_count": 27,
   "id": "d66cc756",
   "metadata": {},
   "outputs": [
    {
     "data": {
      "text/plain": [
       "23"
      ]
     },
     "execution_count": 27,
     "metadata": {},
     "output_type": "execute_result"
    }
   ],
   "source": [
    "num1"
   ]
  },
  {
   "cell_type": "code",
   "execution_count": 28,
   "id": "27b7a6f0",
   "metadata": {},
   "outputs": [],
   "source": [
    "def check_even(n1):\n",
    "    return n1%2 == 0"
   ]
  },
  {
   "cell_type": "code",
   "execution_count": 29,
   "id": "db02689f",
   "metadata": {},
   "outputs": [
    {
     "data": {
      "text/plain": [
       "False"
      ]
     },
     "execution_count": 29,
     "metadata": {},
     "output_type": "execute_result"
    }
   ],
   "source": [
    "check_even(13)"
   ]
  },
  {
   "cell_type": "code",
   "execution_count": 35,
   "id": "42247e17",
   "metadata": {},
   "outputs": [],
   "source": [
    "#Check if any number in a list is even\n",
    "def check_list(n_list):\n",
    "    for number in n_list:\n",
    "        if number%2 == 0:\n",
    "            return True\n",
    "        else: \n",
    "            pass"
   ]
  },
  {
   "cell_type": "code",
   "execution_count": 36,
   "id": "15315bd6",
   "metadata": {},
   "outputs": [
    {
     "data": {
      "text/plain": [
       "True"
      ]
     },
     "execution_count": 36,
     "metadata": {},
     "output_type": "execute_result"
    }
   ],
   "source": [
    "check_list([1,2,3])"
   ]
  },
  {
   "cell_type": "code",
   "execution_count": 37,
   "id": "a39a2621",
   "metadata": {},
   "outputs": [],
   "source": [
    "check_list([1,3,5])"
   ]
  },
  {
   "cell_type": "code",
   "execution_count": 34,
   "id": "e42be7ef",
   "metadata": {},
   "outputs": [],
   "source": [
    "### below is mistake\n",
    "def check_list1(n_list):\n",
    "    for number in n_list:\n",
    "        if number%2 == 0:\n",
    "            return True\n",
    "        else: \n",
    "            return False"
   ]
  },
  {
   "cell_type": "code",
   "execution_count": 38,
   "id": "7405037d",
   "metadata": {},
   "outputs": [
    {
     "data": {
      "text/plain": [
       "False"
      ]
     },
     "execution_count": 38,
     "metadata": {},
     "output_type": "execute_result"
    }
   ],
   "source": [
    "check_list1([1,2,3])"
   ]
  },
  {
   "cell_type": "code",
   "execution_count": 40,
   "id": "81247744",
   "metadata": {},
   "outputs": [],
   "source": [
    "#Correct way\n",
    "\n",
    "def check_list2(n_list):\n",
    "    for number in n_list:\n",
    "        if number%2 == 0:\n",
    "            return True\n",
    "        else: \n",
    "            pass\n",
    "    #notice the indentation !! This ensures we run through the entire for loop\n",
    "    return False"
   ]
  },
  {
   "cell_type": "code",
   "execution_count": 41,
   "id": "92862178",
   "metadata": {},
   "outputs": [
    {
     "data": {
      "text/plain": [
       "True"
      ]
     },
     "execution_count": 41,
     "metadata": {},
     "output_type": "execute_result"
    }
   ],
   "source": [
    "check_list2([1,2,3])"
   ]
  },
  {
   "cell_type": "code",
   "execution_count": 42,
   "id": "58d63083",
   "metadata": {},
   "outputs": [
    {
     "data": {
      "text/plain": [
       "False"
      ]
     },
     "execution_count": 42,
     "metadata": {},
     "output_type": "execute_result"
    }
   ],
   "source": [
    "check_list2([1,3,5,7,13])"
   ]
  },
  {
   "cell_type": "code",
   "execution_count": 54,
   "id": "63aa595a",
   "metadata": {},
   "outputs": [],
   "source": [
    "# Create a function that returns all the even numbers in a list, otherwise it returns an empty list\n",
    "def even_num(l1):\n",
    "    l2=[]\n",
    "    for i in l1:\n",
    "        if i%2 == 0:\n",
    "            l2.append(i)\n",
    "        else:\n",
    "            pass\n",
    "    return l2"
   ]
  },
  {
   "cell_type": "code",
   "execution_count": 56,
   "id": "a3353352",
   "metadata": {},
   "outputs": [
    {
     "data": {
      "text/plain": [
       "[2, 4, 6]"
      ]
     },
     "execution_count": 56,
     "metadata": {},
     "output_type": "execute_result"
    }
   ],
   "source": [
    "even_num([1,2,3,4,5,6])"
   ]
  },
  {
   "cell_type": "code",
   "execution_count": 57,
   "id": "cce36ca4",
   "metadata": {},
   "outputs": [
    {
     "data": {
      "text/plain": [
       "[]"
      ]
     },
     "execution_count": 57,
     "metadata": {},
     "output_type": "execute_result"
    }
   ],
   "source": [
    "even_num([1,3,5,7])"
   ]
  },
  {
   "cell_type": "markdown",
   "id": "0da5b2ef",
   "metadata": {},
   "source": [
    "Penalty ticket by traffic police\n",
    "\n",
    "Silver Class : 60 or less \n",
    "Gold Class : 61 - 80\n",
    "Platinum Class: 80 and above\n",
    "Create a function if it is birthday, your speed can be 5 higher in all cases\n",
    "\n",
    "\n",
    "caught_by_police(speed,is_birthday)"
   ]
  },
  {
   "cell_type": "code",
   "execution_count": 2,
   "id": "5a8c8614",
   "metadata": {},
   "outputs": [
    {
     "data": {
      "text/plain": [
       "'Silver'"
      ]
     },
     "execution_count": 2,
     "metadata": {},
     "output_type": "execute_result"
    }
   ],
   "source": [
    "def caught_by_police(speed,is_bday):\n",
    "    if(is_bday):\n",
    "        speed = speed-5\n",
    "\n",
    "    if(speed <= 60):\n",
    "        penalty_class=\"Silver\"\n",
    "    elif(speed > 60 and speed <= 80 ):\n",
    "        penalty_class = \"Gold\"\n",
    "    elif(speed > 80):\n",
    "        penalty_class = \"Platinum\"  \n",
    "    return penalty_class\n",
    "\n",
    "caught_by_police(12,False)"
   ]
  },
  {
   "cell_type": "code",
   "execution_count": 3,
   "id": "3866cef7",
   "metadata": {},
   "outputs": [],
   "source": [
    "def caught_by_police(speed,is_birthday):\n",
    "    if is_birthday:\n",
    "        if speed <= 65:\n",
    "            return 'Silver Class'\n",
    "        elif speed >= 66 and speed <=85:\n",
    "            return 'Gold Class'\n",
    "        else:\n",
    "            return 'Platinum Class'\n",
    "    else:\n",
    "        if speed <= 60:\n",
    "            return 'Silver Class'\n",
    "        elif speed >= 61 and speed <=80:\n",
    "            return 'Gold Class'\n",
    "        else:\n",
    "            return 'Platinum Class'"
   ]
  },
  {
   "cell_type": "code",
   "execution_count": null,
   "id": "8fd76371",
   "metadata": {},
   "outputs": [],
   "source": []
  }
 ],
 "metadata": {
  "kernelspec": {
   "display_name": "Python 3 (ipykernel)",
   "language": "python",
   "name": "python3"
  },
  "language_info": {
   "codemirror_mode": {
    "name": "ipython",
    "version": 3
   },
   "file_extension": ".py",
   "mimetype": "text/x-python",
   "name": "python",
   "nbconvert_exporter": "python",
   "pygments_lexer": "ipython3",
   "version": "3.11.5"
  }
 },
 "nbformat": 4,
 "nbformat_minor": 5
}
