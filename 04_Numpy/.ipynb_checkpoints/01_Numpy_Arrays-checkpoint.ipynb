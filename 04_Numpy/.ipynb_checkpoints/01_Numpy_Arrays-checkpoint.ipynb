{
 "cells": [
  {
   "cell_type": "markdown",
   "id": "e2a53098",
   "metadata": {},
   "source": [
    "## Importing Numpy"
   ]
  },
  {
   "cell_type": "code",
   "execution_count": 1,
   "id": "07159ee5",
   "metadata": {},
   "outputs": [],
   "source": [
    "import numpy as np"
   ]
  },
  {
   "cell_type": "markdown",
   "id": "d3d8e3e0",
   "metadata": {},
   "source": [
    "### Numpy Arrays"
   ]
  },
  {
   "cell_type": "markdown",
   "id": "f8b8ffd7",
   "metadata": {},
   "source": [
    "#Vectors: 1-D arrays\n",
    "#Matrices: 2-D arrays\n",
    "\n",
    "\n",
    "Why use numpy arrays when you have list:\n",
    "\n",
    "* 1. Memory efficient\n",
    "* 2. Easily expandable to N-dimensions\n",
    "* 3. Speed of calculations is higher in numpy array\n",
    "* 4. Broadcasting operations and functions with numpy\n",
    "* 5. All the data science libraries are built on top on Numpy"
   ]
  },
  {
   "cell_type": "code",
   "execution_count": null,
   "id": "8d3c0ef9",
   "metadata": {},
   "outputs": [],
   "source": []
  }
 ],
 "metadata": {
  "kernelspec": {
   "display_name": "Python 3 (ipykernel)",
   "language": "python",
   "name": "python3"
  },
  "language_info": {
   "codemirror_mode": {
    "name": "ipython",
    "version": 3
   },
   "file_extension": ".py",
   "mimetype": "text/x-python",
   "name": "python",
   "nbconvert_exporter": "python",
   "pygments_lexer": "ipython3",
   "version": "3.11.5"
  }
 },
 "nbformat": 4,
 "nbformat_minor": 5
}
