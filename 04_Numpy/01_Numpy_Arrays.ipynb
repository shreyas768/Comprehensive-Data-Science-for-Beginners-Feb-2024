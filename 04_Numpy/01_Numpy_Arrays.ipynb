{
 "cells": [
  {
   "cell_type": "markdown",
   "id": "faf9a24c",
   "metadata": {},
   "source": [
    "## Importing Numpy"
   ]
  },
  {
   "cell_type": "code",
   "execution_count": 2,
   "id": "6075bd02",
   "metadata": {},
   "outputs": [],
   "source": [
    "import numpy as np"
   ]
  },
  {
   "cell_type": "markdown",
   "id": "c80e8c4e",
   "metadata": {},
   "source": [
    "### Numpy Arrays"
   ]
  },
  {
   "cell_type": "markdown",
   "id": "db8b8903",
   "metadata": {},
   "source": [
    "#Vectors: 1-D arrays\n",
    "#Matrices: 2-D arrays\n",
    "\n",
    "\n",
    "Why use numpy arrays when you have list:\n",
    "\n",
    "* 1. Memory efficient\n",
    "* 2. Easily expandable to N-dimensions\n",
    "* 3. Speed of calculations is higher in numpy array\n",
    "* 4. Broadcasting operations and functions with numpy\n",
    "* 5. All the data science libraries are built on top on Numpy"
   ]
  },
  {
   "cell_type": "code",
   "execution_count": 3,
   "id": "d800c8b0",
   "metadata": {},
   "outputs": [],
   "source": [
    "lst = [1,2,3]\n",
    "arr = np.array(lst)"
   ]
  },
  {
   "cell_type": "code",
   "execution_count": 4,
   "id": "33e5442f",
   "metadata": {},
   "outputs": [
    {
     "data": {
      "text/plain": [
       "list"
      ]
     },
     "execution_count": 4,
     "metadata": {},
     "output_type": "execute_result"
    }
   ],
   "source": [
    "type(lst)"
   ]
  },
  {
   "cell_type": "code",
   "execution_count": 5,
   "id": "127d58fa",
   "metadata": {},
   "outputs": [
    {
     "data": {
      "text/plain": [
       "numpy.ndarray"
      ]
     },
     "execution_count": 5,
     "metadata": {},
     "output_type": "execute_result"
    }
   ],
   "source": [
    "type(arr)"
   ]
  },
  {
   "cell_type": "code",
   "execution_count": 6,
   "id": "e5dae9c4",
   "metadata": {},
   "outputs": [
    {
     "data": {
      "text/plain": [
       "[[1, 2, 3], [4, 5, 6], [7, 8, 9]]"
      ]
     },
     "execution_count": 6,
     "metadata": {},
     "output_type": "execute_result"
    }
   ],
   "source": [
    "mat = [[1,2,3],[4,5,6],[7,8,9]]\n",
    "mat"
   ]
  },
  {
   "cell_type": "code",
   "execution_count": 7,
   "id": "d933e3ee",
   "metadata": {},
   "outputs": [
    {
     "data": {
      "text/plain": [
       "array([[1, 2, 3],\n",
       "       [4, 5, 6],\n",
       "       [7, 8, 9]])"
      ]
     },
     "execution_count": 7,
     "metadata": {},
     "output_type": "execute_result"
    }
   ],
   "source": [
    "np.array(mat)"
   ]
  },
  {
   "cell_type": "markdown",
   "id": "4d68335c",
   "metadata": {},
   "source": [
    "## Built-in Methods to create arrays"
   ]
  },
  {
   "cell_type": "code",
   "execution_count": 8,
   "id": "869fd942",
   "metadata": {},
   "outputs": [
    {
     "data": {
      "text/plain": [
       "array([0, 2, 4, 6, 8])"
      ]
     },
     "execution_count": 8,
     "metadata": {},
     "output_type": "execute_result"
    }
   ],
   "source": [
    "#arange\n",
    "np.arange(0,10,2)"
   ]
  },
  {
   "cell_type": "code",
   "execution_count": 9,
   "id": "432e9535",
   "metadata": {},
   "outputs": [
    {
     "data": {
      "text/plain": [
       "array([[0., 0., 0., 0.],\n",
       "       [0., 0., 0., 0.],\n",
       "       [0., 0., 0., 0.]])"
      ]
     },
     "execution_count": 9,
     "metadata": {},
     "output_type": "execute_result"
    }
   ],
   "source": [
    "#zeros\n",
    "np.zeros((3,4))"
   ]
  },
  {
   "cell_type": "code",
   "execution_count": 10,
   "id": "bf111afb",
   "metadata": {},
   "outputs": [
    {
     "data": {
      "text/plain": [
       "array([[1., 1., 1., 1.],\n",
       "       [1., 1., 1., 1.],\n",
       "       [1., 1., 1., 1.],\n",
       "       [1., 1., 1., 1.],\n",
       "       [1., 1., 1., 1.],\n",
       "       [1., 1., 1., 1.]])"
      ]
     },
     "execution_count": 10,
     "metadata": {},
     "output_type": "execute_result"
    }
   ],
   "source": [
    "#ones\n",
    "np.ones((6,4))"
   ]
  },
  {
   "cell_type": "code",
   "execution_count": 11,
   "id": "a41e5f70",
   "metadata": {},
   "outputs": [
    {
     "data": {
      "text/plain": [
       "array([[1., 0., 0., 0., 0.],\n",
       "       [0., 1., 0., 0., 0.],\n",
       "       [0., 0., 1., 0., 0.],\n",
       "       [0., 0., 0., 1., 0.],\n",
       "       [0., 0., 0., 0., 1.]])"
      ]
     },
     "execution_count": 11,
     "metadata": {},
     "output_type": "execute_result"
    }
   ],
   "source": [
    "#eye\n",
    "np.eye(5)"
   ]
  },
  {
   "cell_type": "code",
   "execution_count": 12,
   "id": "94b53c71",
   "metadata": {},
   "outputs": [
    {
     "data": {
      "text/plain": [
       "array([ 0.        ,  3.33333333,  6.66666667, 10.        ])"
      ]
     },
     "execution_count": 12,
     "metadata": {},
     "output_type": "execute_result"
    }
   ],
   "source": [
    "#linspace\n",
    "np.linspace(0,10,4)"
   ]
  },
  {
   "cell_type": "code",
   "execution_count": 13,
   "id": "a1123137",
   "metadata": {},
   "outputs": [
    {
     "data": {
      "text/plain": [
       "array([ 0.,  1.,  2.,  3.,  4.,  5.,  6.,  7.,  8.,  9., 10.])"
      ]
     },
     "execution_count": 13,
     "metadata": {},
     "output_type": "execute_result"
    }
   ],
   "source": [
    "np.linspace(0,10,11)"
   ]
  },
  {
   "cell_type": "markdown",
   "id": "19f7b6b2",
   "metadata": {},
   "source": [
    "### Random"
   ]
  },
  {
   "cell_type": "code",
   "execution_count": 14,
   "id": "838d1864",
   "metadata": {},
   "outputs": [],
   "source": [
    "#rand: crates an array of the given shape and populates it with random samples from a uniform distribution over [0,1)"
   ]
  },
  {
   "cell_type": "code",
   "execution_count": 20,
   "id": "85993372",
   "metadata": {},
   "outputs": [
    {
     "data": {
      "text/plain": [
       "array([0.42792076, 0.12326408, 0.17901345, 0.6750541 , 0.69200237,\n",
       "       0.18515375, 0.14719862, 0.71060368, 0.73600795, 0.76571704,\n",
       "       0.18074404, 0.38654653, 0.24290321, 0.35861829, 0.09931169,\n",
       "       0.49206657, 0.60534784, 0.10710597, 0.78867088, 0.602005  ])"
      ]
     },
     "execution_count": 20,
     "metadata": {},
     "output_type": "execute_result"
    }
   ],
   "source": [
    "np.random.rand(20)"
   ]
  },
  {
   "cell_type": "code",
   "execution_count": 21,
   "id": "acc36a2c",
   "metadata": {},
   "outputs": [
    {
     "data": {
      "text/plain": [
       "array([-0.4056669 , -0.25470009, -0.57459267, -0.71994004,  1.14583364])"
      ]
     },
     "execution_count": 21,
     "metadata": {},
     "output_type": "execute_result"
    }
   ],
   "source": [
    "#randn: returns a sample from the 'standard normal' distribution. \n",
    "#Unlike rand which is uniform, values closer to zero are like to appear\n",
    "\n",
    "np.random.randn(5)"
   ]
  },
  {
   "cell_type": "code",
   "execution_count": 22,
   "id": "c08b2dee",
   "metadata": {},
   "outputs": [
    {
     "data": {
      "text/plain": [
       "array([[-0.32023514,  0.10903795, -0.1920224 , -1.02110714, -1.24068953,\n",
       "         1.19621754,  0.56701339],\n",
       "       [-0.1775355 , -0.48155609,  0.28657106, -0.25653648, -0.37336037,\n",
       "        -0.81357008,  0.17284519],\n",
       "       [ 0.03443988,  0.63621053, -0.84650913,  0.98670753,  1.53390189,\n",
       "         1.0400971 , -2.13206866],\n",
       "       [-1.94662917, -1.65102432,  0.67087062, -1.1742971 , -0.5792436 ,\n",
       "        -1.20867399,  1.51703675],\n",
       "       [ 0.70139081, -0.46961369,  0.26098501, -0.53386674,  1.4284399 ,\n",
       "         0.46170021, -0.93840773],\n",
       "       [ 0.36379667, -0.96108596,  1.34221899,  0.11605397, -0.00259984,\n",
       "        -2.08165585,  0.45869413]])"
      ]
     },
     "execution_count": 22,
     "metadata": {},
     "output_type": "execute_result"
    }
   ],
   "source": [
    "np.random.randn(6,7)"
   ]
  },
  {
   "cell_type": "code",
   "execution_count": 23,
   "id": "0ec797b4",
   "metadata": {},
   "outputs": [],
   "source": [
    "#randint"
   ]
  },
  {
   "cell_type": "code",
   "execution_count": 36,
   "id": "fc5074f9",
   "metadata": {},
   "outputs": [
    {
     "data": {
      "text/plain": [
       "83"
      ]
     },
     "execution_count": 36,
     "metadata": {},
     "output_type": "execute_result"
    }
   ],
   "source": [
    "np.random.randint(1,100)  #1 is inclusive but 100 is exclusive"
   ]
  },
  {
   "cell_type": "code",
   "execution_count": 78,
   "id": "3a27d364",
   "metadata": {},
   "outputs": [
    {
     "data": {
      "text/plain": [
       "array([120, 113, 118, 109, 117, 106, 133, 129, 129, 116, 133, 114, 118,\n",
       "       111, 126, 132, 116, 115, 130, 128, 121, 118, 112])"
      ]
     },
     "execution_count": 78,
     "metadata": {},
     "output_type": "execute_result"
    }
   ],
   "source": [
    "np.random.randint(101,136,23)"
   ]
  },
  {
   "cell_type": "markdown",
   "id": "2893c1e8",
   "metadata": {},
   "source": [
    "### seed\n",
    "\n",
    "* set random state so that same 'random' results can be produced over and over again"
   ]
  },
  {
   "cell_type": "code",
   "execution_count": 80,
   "id": "182f15a9",
   "metadata": {},
   "outputs": [
    {
     "data": {
      "text/plain": [
       "array([131, 114, 120, 112, 115, 102, 123, 124, 109, 129, 124, 129, 132,\n",
       "       113, 107, 116, 107, 113, 113, 117, 131, 128, 132, 108, 134, 130,\n",
       "       113, 115, 110, 116, 118, 120, 103, 110, 137, 131, 103, 125, 136,\n",
       "       129, 104, 134, 127])"
      ]
     },
     "execution_count": 80,
     "metadata": {},
     "output_type": "execute_result"
    }
   ],
   "source": [
    "np.random.seed(137)  #random_state\n",
    "np.random.randint(101,138,43)"
   ]
  },
  {
   "cell_type": "code",
   "execution_count": 83,
   "id": "651b3e86",
   "metadata": {},
   "outputs": [
    {
     "data": {
      "text/plain": [
       "array([[ 1.09077549,  1.06558071,  4.51574031],\n",
       "       [-0.66767452, -0.40789271,  0.9866497 ],\n",
       "       [ 0.80106522,  1.02688747,  0.0328846 ],\n",
       "       [ 1.1345712 ,  0.29244141, -0.80623546],\n",
       "       [ 0.12572281,  1.02150418,  1.27691408],\n",
       "       [-0.10868027, -1.63155944,  0.21149633],\n",
       "       [ 0.49139659,  2.01746651,  1.38351189],\n",
       "       [-1.27071272,  0.20827071,  0.21601028],\n",
       "       [ 1.4714186 ,  0.38730203, -1.77436628],\n",
       "       [ 0.59428484, -1.10337818, -0.5370898 ]])"
      ]
     },
     "execution_count": 83,
     "metadata": {},
     "output_type": "execute_result"
    }
   ],
   "source": [
    "np.random.seed(137)  #random_state\n",
    "np.random.randn(10,3)"
   ]
  },
  {
   "cell_type": "markdown",
   "id": "67309278",
   "metadata": {},
   "source": [
    "### Array Attributes and Methods"
   ]
  },
  {
   "cell_type": "code",
   "execution_count": 84,
   "id": "253f4a72",
   "metadata": {},
   "outputs": [
    {
     "data": {
      "text/plain": [
       "array([ 0,  1,  2,  3,  4,  5,  6,  7,  8,  9, 10, 11, 12, 13, 14, 15, 16,\n",
       "       17, 18, 19, 20, 21, 22, 23, 24])"
      ]
     },
     "execution_count": 84,
     "metadata": {},
     "output_type": "execute_result"
    }
   ],
   "source": [
    "#arange\n",
    "arr = np.arange(25)\n",
    "arr"
   ]
  },
  {
   "cell_type": "code",
   "execution_count": 85,
   "id": "5d887fb8",
   "metadata": {},
   "outputs": [
    {
     "data": {
      "text/plain": [
       "array([ 8, 27, 11, 34, 12, 29, 49, 36, 41, 39, 49, 31])"
      ]
     },
     "execution_count": 85,
     "metadata": {},
     "output_type": "execute_result"
    }
   ],
   "source": [
    "ranar = np.random.randint(0,50,12)\n",
    "ranar"
   ]
  },
  {
   "cell_type": "code",
   "execution_count": 86,
   "id": "7ecf3bd3",
   "metadata": {},
   "outputs": [
    {
     "data": {
      "text/plain": [
       "array([[ 0,  1,  2,  3,  4],\n",
       "       [ 5,  6,  7,  8,  9],\n",
       "       [10, 11, 12, 13, 14],\n",
       "       [15, 16, 17, 18, 19],\n",
       "       [20, 21, 22, 23, 24]])"
      ]
     },
     "execution_count": 86,
     "metadata": {},
     "output_type": "execute_result"
    }
   ],
   "source": [
    "#reshape\n",
    "arr.reshape(5,5)"
   ]
  },
  {
   "cell_type": "code",
   "execution_count": 88,
   "id": "abd16b9b",
   "metadata": {},
   "outputs": [
    {
     "data": {
      "text/plain": [
       "array([[ 8, 27, 11],\n",
       "       [34, 12, 29],\n",
       "       [49, 36, 41],\n",
       "       [39, 49, 31]])"
      ]
     },
     "execution_count": 88,
     "metadata": {},
     "output_type": "execute_result"
    }
   ],
   "source": [
    "ranar.reshape(4,3)"
   ]
  },
  {
   "cell_type": "code",
   "execution_count": 89,
   "id": "9eb5a89c",
   "metadata": {},
   "outputs": [
    {
     "data": {
      "text/plain": [
       "49"
      ]
     },
     "execution_count": 89,
     "metadata": {},
     "output_type": "execute_result"
    }
   ],
   "source": [
    "#max\n",
    "ranar.max()"
   ]
  },
  {
   "cell_type": "code",
   "execution_count": 90,
   "id": "3ac9b37e",
   "metadata": {},
   "outputs": [
    {
     "data": {
      "text/plain": [
       "6"
      ]
     },
     "execution_count": 90,
     "metadata": {},
     "output_type": "execute_result"
    }
   ],
   "source": [
    "#argmax\n",
    "ranar.argmax()"
   ]
  },
  {
   "cell_type": "code",
   "execution_count": 91,
   "id": "1ecde4ef",
   "metadata": {},
   "outputs": [
    {
     "data": {
      "text/plain": [
       "8"
      ]
     },
     "execution_count": 91,
     "metadata": {},
     "output_type": "execute_result"
    }
   ],
   "source": [
    "#min\n",
    "ranar.min()"
   ]
  },
  {
   "cell_type": "code",
   "execution_count": 92,
   "id": "4a6bd7c5",
   "metadata": {},
   "outputs": [
    {
     "data": {
      "text/plain": [
       "0"
      ]
     },
     "execution_count": 92,
     "metadata": {},
     "output_type": "execute_result"
    }
   ],
   "source": [
    "#argmin\n",
    "ranar.argmin()"
   ]
  },
  {
   "cell_type": "code",
   "execution_count": 93,
   "id": "b0968ea2",
   "metadata": {},
   "outputs": [
    {
     "data": {
      "text/plain": [
       "(25,)"
      ]
     },
     "execution_count": 93,
     "metadata": {},
     "output_type": "execute_result"
    }
   ],
   "source": [
    "#Shape: is an attribute. Means it does not take in any parameter\n",
    "\n",
    "arr.shape"
   ]
  },
  {
   "cell_type": "code",
   "execution_count": 100,
   "id": "f2068131",
   "metadata": {},
   "outputs": [
    {
     "data": {
      "text/plain": [
       "array([[ 0],\n",
       "       [ 1],\n",
       "       [ 2],\n",
       "       [ 3],\n",
       "       [ 4],\n",
       "       [ 5],\n",
       "       [ 6],\n",
       "       [ 7],\n",
       "       [ 8],\n",
       "       [ 9],\n",
       "       [10],\n",
       "       [11],\n",
       "       [12],\n",
       "       [13],\n",
       "       [14],\n",
       "       [15],\n",
       "       [16],\n",
       "       [17],\n",
       "       [18],\n",
       "       [19],\n",
       "       [20],\n",
       "       [21],\n",
       "       [22],\n",
       "       [23],\n",
       "       [24]])"
      ]
     },
     "execution_count": 100,
     "metadata": {},
     "output_type": "execute_result"
    }
   ],
   "source": [
    "arr1 = arr.reshape(25,1)\n",
    "arr1"
   ]
  },
  {
   "cell_type": "code",
   "execution_count": 97,
   "id": "b42cdc15",
   "metadata": {},
   "outputs": [
    {
     "data": {
      "text/plain": [
       "(25, 1)"
      ]
     },
     "execution_count": 97,
     "metadata": {},
     "output_type": "execute_result"
    }
   ],
   "source": [
    "arr1.shape"
   ]
  },
  {
   "cell_type": "code",
   "execution_count": 98,
   "id": "89e57701",
   "metadata": {},
   "outputs": [
    {
     "data": {
      "text/plain": [
       "dtype('int64')"
      ]
     },
     "execution_count": 98,
     "metadata": {},
     "output_type": "execute_result"
    }
   ],
   "source": [
    "#dtype\n",
    "arr.dtype"
   ]
  },
  {
   "cell_type": "code",
   "execution_count": null,
   "id": "934b85de",
   "metadata": {},
   "outputs": [],
   "source": []
  }
 ],
 "metadata": {
  "kernelspec": {
   "display_name": "Python 3 (ipykernel)",
   "language": "python",
   "name": "python3"
  },
  "language_info": {
   "codemirror_mode": {
    "name": "ipython",
    "version": 3
   },
   "file_extension": ".py",
   "mimetype": "text/x-python",
   "name": "python",
   "nbconvert_exporter": "python",
   "pygments_lexer": "ipython3",
   "version": "3.11.5"
  }
 },
 "nbformat": 4,
 "nbformat_minor": 5
}
